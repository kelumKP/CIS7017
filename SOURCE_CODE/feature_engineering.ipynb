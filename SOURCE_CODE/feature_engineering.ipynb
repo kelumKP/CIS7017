{
 "cells": [
  {
   "cell_type": "code",
   "execution_count": 2,
   "metadata": {},
   "outputs": [
    {
     "name": "stdout",
     "output_type": "stream",
     "text": [
      "Mean Squared Error: 38040.20581674623\n",
      "Feature Importance:\n",
      "TradeVolume      -0.282389\n",
      "ShareVolume      -0.000046\n",
      "Turnover (Rs.)    0.000002\n",
      "Loan Rate        -5.938990\n",
      "Inflation        -0.674149\n",
      "Buy Rate          0.184434\n",
      "Election         -3.817813\n",
      "dtype: float64\n"
     ]
    }
   ],
   "source": [
    "# Import necessary libraries\n",
    "import pandas as pd\n",
    "import numpy as np\n",
    "from sklearn.model_selection import train_test_split\n",
    "from sklearn.linear_model import LinearRegression\n",
    "from sklearn.metrics import mean_squared_error\n",
    "\n",
    "# Load the data\n",
    "data = pd.read_csv('./all_data.csv')\n",
    "\n",
    "# Select feature columns and target variable\n",
    "features = data[['TradeVolume', 'ShareVolume', 'Turnover (Rs.)', 'Loan Rate', 'Inflation', 'Buy Rate', 'Election']]\n",
    "target = data['Close (Rs.)']\n",
    "\n",
    "# Split the data into training and testing sets\n",
    "X_train, X_test, y_train, y_test = train_test_split(features, target, test_size=0.2, random_state=42)\n",
    "\n",
    "# Build a linear regression model\n",
    "model = LinearRegression()\n",
    "model.fit(X_train, y_train)\n",
    "\n",
    "# Make predictions\n",
    "y_pred = model.predict(X_test)\n",
    "\n",
    "# Evaluate the model\n",
    "mse = mean_squared_error(y_test, y_pred)\n",
    "print(f\"Mean Squared Error: {mse}\")\n",
    "\n",
    "# Feature Importance\n",
    "coefficients = model.coef_\n",
    "feature_names = features.columns\n",
    "\n",
    "feature_importance = pd.Series(coefficients, index=feature_names)\n",
    "print(\"Feature Importance:\")\n",
    "print(feature_importance)"
   ]
  }
 ],
 "metadata": {
  "kernelspec": {
   "display_name": "base",
   "language": "python",
   "name": "python3"
  },
  "language_info": {
   "codemirror_mode": {
    "name": "ipython",
    "version": 3
   },
   "file_extension": ".py",
   "mimetype": "text/x-python",
   "name": "python",
   "nbconvert_exporter": "python",
   "pygments_lexer": "ipython3",
   "version": "3.9.18"
  }
 },
 "nbformat": 4,
 "nbformat_minor": 2
}
