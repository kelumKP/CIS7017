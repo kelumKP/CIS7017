{
 "cells": [
  {
   "cell_type": "code",
   "execution_count": 6,
   "metadata": {},
   "outputs": [],
   "source": [
    "import pandas as pd\n",
    "\n",
    "# Read CSV files into dataframes\n",
    "final_loan_rate_vs_stock_values_df = pd.read_csv('../DATASETS/FACTORS/BANK_LOAN_RATES_SRI_LANKA/final_loan_rate_vs_stock_values.csv')\n",
    "final_elections_vs_stock_values_df = pd.read_csv('../DATASETS/FACTORS/ELECTION_DATA_SRI_LANKA/final_elections_vs_stock_values.csv')\n",
    "final_usd_exchange_rate_vs_stock_values_df = pd.read_csv('../DATASETS/FACTORS/EXCHANGE_RATES_SRI_LANKA/final_usd_exchange_rate_vs_stock_values.csv')\n",
    "final_inflation_vs_stock_values_df = pd.read_csv('../DATASETS/FACTORS/INFLATION_DATA_SRI_LANKA/final_inflation_vs_stock_values.csv')\n",
    "final_natural_disasters_vs_stock_values_df = pd.read_csv('../DATASETS/FACTORS/NATURAL_DISASTER_SRI_LANKA/final_natural_disasters_vs_stock_values.csv')\n",
    "final_pandamics_vs_stock_values_df = pd.read_csv('../DATASETS/FACTORS/PANDAMICS_DATA_SRI_LANKA/final_pandamics_vs_stock_values.csv')"
   ]
  },
  {
   "cell_type": "code",
   "execution_count": 7,
   "metadata": {},
   "outputs": [
    {
     "name": "stdout",
     "output_type": "stream",
     "text": [
      "        Label  Year  Month  Close (Rs.)  Loan Rate\n",
      "0   SUN.N0000  1990      3         12.5       18.7\n",
      "1  GREG.N0000  1990      4          0.5       18.7\n",
      "       Label  Year  Month  Close (Rs.)  Election\n",
      "0  JKH.N0000  1986      8          0.0         0\n",
      "1  SUN.N0000  1990      3         12.5         0\n",
      "       Label  Year  Month  Close (Rs.)  Buy Rate\n",
      "0  JKH.N0000  1986      8          0.0     28.23\n",
      "1  SUN.N0000  1990      3         12.5     40.02\n",
      "       Label  Month  Year  Close (Rs.)  Inflation\n",
      "0  JKH.N0000      8  1986          0.0        9.8\n",
      "1  SUN.N0000      3  1990         12.5       22.3\n",
      "       Label  Month  Year  Natural_Disasters  Close (Rs.)\n",
      "0  JKH.N0000      8  1986                0.0          0.0\n",
      "1  SUN.N0000      3  1990                0.0         12.5\n",
      "       Label  Month  Year  Close (Rs.)  Severity\n",
      "0  JKH.N0000      8  1986          0.0  55009.82\n",
      "1  SUN.N0000      3  1990         12.5  55009.82\n",
      "            Label  Year  Month  Close (Rs.)  Loan Rate\n",
      "40421  WIND.N0000  2023     10        18.55       12.0\n",
      "40422  YORK.N0000  2023     10       165.00       12.0\n",
      "            Label  Year  Month  Close (Rs.)  Election\n",
      "42152  WIND.N0000  2023     10        18.55         0\n",
      "42153  YORK.N0000  2023     10       165.00         0\n",
      "            Label  Year  Month  Close (Rs.)  Buy Rate\n",
      "40422  WIND.N0000  2023     10        18.55   323.787\n",
      "40423  YORK.N0000  2023     10       165.00   323.787\n",
      "            Label  Month  Year  Close (Rs.)  Inflation\n",
      "40143  WIND.N0000      9  2023    18.768421        1.3\n",
      "40144  YORK.N0000      9  2023   155.403846        1.3\n",
      "            Label  Month  Year  Natural_Disasters  Close (Rs.)\n",
      "40422  WIND.N0000     10  2023                1.0    18.620000\n",
      "40423  YORK.N0000     10  2023                1.0   161.357143\n",
      "            Label  Month  Year  Close (Rs.)   Severity\n",
      "40422  WIND.N0000     10  2023    18.620000  201824.53\n",
      "40423  YORK.N0000     10  2023   161.357143  201824.53\n"
     ]
    }
   ],
   "source": [
    "print(final_loan_rate_vs_stock_values_df.head(2))\n",
    "print(final_elections_vs_stock_values_df.head(2))\n",
    "print(final_usd_exchange_rate_vs_stock_values_df.head(2))\n",
    "print(final_inflation_vs_stock_values_df.head(2))\n",
    "print(final_natural_disasters_vs_stock_values_df.head(2))\n",
    "print(final_pandamics_vs_stock_values_df.head(2))\n",
    "\n",
    "print(final_loan_rate_vs_stock_values_df.tail(2))\n",
    "print(final_elections_vs_stock_values_df.tail(2))\n",
    "print(final_usd_exchange_rate_vs_stock_values_df.tail(2))\n",
    "print(final_inflation_vs_stock_values_df.tail(2))\n",
    "print(final_natural_disasters_vs_stock_values_df.tail(2))\n",
    "print(final_pandamics_vs_stock_values_df.tail(2))"
   ]
  },
  {
   "cell_type": "code",
   "execution_count": 8,
   "metadata": {},
   "outputs": [
    {
     "name": "stdout",
     "output_type": "stream",
     "text": [
      "        Label  Year  Month  Close (Rs.)  Loan Rate\n",
      "0   SUN.N0000  1990      3         12.5       18.7\n",
      "1  GREG.N0000  1990      4          0.5       18.7\n",
      "       Label  Year  Month  Close (Rs.)  Election\n",
      "0  JKH.N0000  1986      8          0.0         0\n",
      "1  SUN.N0000  1990      3         12.5         0\n",
      "       Label  Year  Month  Close (Rs.)  Buy Rate\n",
      "0  JKH.N0000  1986      8          0.0     28.23\n",
      "1  SUN.N0000  1990      3         12.5     40.02\n",
      "       Label  Month  Year  Close (Rs.)  Inflation\n",
      "0  JKH.N0000      8  1986          0.0        9.8\n",
      "1  SUN.N0000      3  1990         12.5       22.3\n"
     ]
    }
   ],
   "source": [
    "print(final_loan_rate_vs_stock_values_df.head(2))\n",
    "print(final_elections_vs_stock_values_df.head(2))\n",
    "print(final_usd_exchange_rate_vs_stock_values_df.head(2))\n",
    "print(final_inflation_vs_stock_values_df.head(2))"
   ]
  },
  {
   "cell_type": "code",
   "execution_count": 9,
   "metadata": {},
   "outputs": [
    {
     "name": "stdout",
     "output_type": "stream",
     "text": [
      "            Label  Month  Year  Close (Rs.)  Loan Rate  Election  Buy Rate  \\\n",
      "0       SUN.N0000      3  1990    12.500000       18.7         0   40.0200   \n",
      "1      GREG.N0000      4  1990     0.500000       18.7         0   40.0200   \n",
      "2      SELI.N0000      1  1991   550.000000       19.3         0   40.4000   \n",
      "3      SHAL.N0000      2  1991   575.000000       19.3         0   40.7200   \n",
      "4      KZOO.N0000      4  1991   125.000000       19.3         0   40.9400   \n",
      "...           ...    ...   ...          ...        ...       ...       ...   \n",
      "41869  VPEL.N0000      9  2023     6.926316       12.0         0  317.5436   \n",
      "41870  WAPO.N0000      9  2023    35.342105       12.0         0  317.5436   \n",
      "41871  WATA.N0000      9  2023    75.357895       12.0         0  317.5436   \n",
      "41872  WIND.N0000      9  2023    18.768421       12.0         0  317.5436   \n",
      "41873  YORK.N0000      9  2023   155.403846       12.0         0  317.5436   \n",
      "\n",
      "       Inflation  \n",
      "0           22.3  \n",
      "1           22.6  \n",
      "2           15.4  \n",
      "3           13.7  \n",
      "4           14.0  \n",
      "...          ...  \n",
      "41869        1.3  \n",
      "41870        1.3  \n",
      "41871        1.3  \n",
      "41872        1.3  \n",
      "41873        1.3  \n",
      "\n",
      "[41874 rows x 8 columns]\n"
     ]
    }
   ],
   "source": [
    "# Merge the DataFrames based on 'Label', 'Year', and 'Month'\n",
    "result_df = pd.merge(final_loan_rate_vs_stock_values_df, final_elections_vs_stock_values_df, on=['Label', 'Year', 'Month'], how='inner', suffixes=('_loan_rate', '_election'))\n",
    "result_df = pd.merge(result_df, final_inflation_vs_stock_values_df, on=['Label', 'Year', 'Month'], how='inner')\n",
    "result_df = pd.merge(result_df, final_usd_exchange_rate_vs_stock_values_df, on=['Label', 'Year', 'Month'], how='inner')\n",
    "\n",
    "# Reorder the columns as per your requirement\n",
    "desired_columns = ['Label', 'Month', 'Year', 'Close (Rs.)', 'Loan Rate', 'Election', 'Buy Rate', 'Inflation']\n",
    "\n",
    "# Rename the columns\n",
    "result_df.rename(columns={\n",
    "    'Close (Rs.)_x': 'Close (Rs.)',\n",
    "    'Loan Rate_loan_rate': 'Loan Rate',\n",
    "    'Election': 'Election',\n",
    "    'Buy Rate': 'Buy Rate',\n",
    "    'Inflation': 'Inflation'\n",
    "}, inplace=True)\n",
    "\n",
    "# Display the resulting dataframe\n",
    "print(result_df[desired_columns])"
   ]
  },
  {
   "cell_type": "code",
   "execution_count": 10,
   "metadata": {},
   "outputs": [],
   "source": [
    "# Remove unnecessary columns\n",
    "result_df.drop(columns=['Close (Rs.)_loan_rate', 'Close (Rs.)_election', 'Close (Rs.)_y'], inplace=True)\n",
    "\n",
    "# Export the cleaned DataFrame to CSV\n",
    "result_df.to_csv('final_completed_merged_data.csv', index=False)"
   ]
  }
 ],
 "metadata": {
  "kernelspec": {
   "display_name": "base",
   "language": "python",
   "name": "python3"
  },
  "language_info": {
   "codemirror_mode": {
    "name": "ipython",
    "version": 3
   },
   "file_extension": ".py",
   "mimetype": "text/x-python",
   "name": "python",
   "nbconvert_exporter": "python",
   "pygments_lexer": "ipython3",
   "version": "3.9.18"
  }
 },
 "nbformat": 4,
 "nbformat_minor": 2
}
