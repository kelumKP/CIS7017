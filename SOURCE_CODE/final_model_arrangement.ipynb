{
 "cells": [
  {
   "cell_type": "code",
   "execution_count": 41,
   "metadata": {},
   "outputs": [],
   "source": [
    "import pandas as pd\n",
    "\n",
    "# Read CSV files into dataframes\n",
    "final_loan_rate_vs_stock_values_df = pd.read_csv('../DATASETS/FACTORS/BANK_LOAN_RATES_SRI_LANKA/final_loan_rate_vs_stock_values.csv')\n",
    "final_elections_vs_stock_values_df = pd.read_csv('../DATASETS/FACTORS/ELECTION_DATA_SRI_LANKA/final_elections_vs_stock_values.csv')\n",
    "final_usd_exchange_rate_vs_stock_values_df = pd.read_csv('../DATASETS/FACTORS/EXCHANGE_RATES_SRI_LANKA/final_usd_exchange_rate_vs_stock_values.csv')\n",
    "final_inflation_vs_stock_values_df = pd.read_csv('../DATASETS/FACTORS/INFLATION_DATA_SRI_LANKA/final_inflation_vs_stock_values.csv')\n",
    "final_natural_disasters_vs_stock_values_df = pd.read_csv('../DATASETS/FACTORS/NATURAL_DISASTER_SRI_LANKA/final_natural_disasters_vs_stock_values.csv')\n",
    "final_pandamics_vs_stock_values_df = pd.read_csv('../DATASETS/FACTORS/PANDAMICS_DATA_SRI_LANKA/final_pandamics_vs_stock_values.csv')"
   ]
  },
  {
   "cell_type": "code",
   "execution_count": 42,
   "metadata": {},
   "outputs": [
    {
     "name": "stdout",
     "output_type": "stream",
     "text": [
      "        Label  Month  Year  Close (Rs.)  Loan Rate\n",
      "0   ACL.N0000      1  2000        49.25      13.39\n",
      "1  ARPI.N0000      1  2000        12.50      13.39\n",
      "       Label  Year  Month  Close (Rs.)  Election\n",
      "0  JKH.N0000  1986      8          0.0         0\n",
      "1  SUN.N0000  1990      3         12.5         0\n",
      "       Label  Year  Month  Close (Rs.)  Buy Rate\n",
      "0  JKH.N0000  1986      8          0.0     28.23\n",
      "1  SUN.N0000  1990      3         12.5     40.02\n",
      "       Label  Month  Year  Close (Rs.)  Inflation\n",
      "0  JKH.N0000      8  1986          0.0        9.8\n",
      "1  SUN.N0000      3  1990         12.5       22.3\n",
      "       Label  Month  Year  Natural_Disasters  Close (Rs.)\n",
      "0  JKH.N0000      8  1986                0.0          0.0\n",
      "1  SUN.N0000      3  1990                0.0         12.5\n",
      "       Label  Month  Year  Close (Rs.)  Severity\n",
      "0  JKH.N0000      8  1986          0.0  55009.82\n",
      "1  SUN.N0000      3  1990         12.5  55009.82\n"
     ]
    }
   ],
   "source": [
    "print(final_loan_rate_vs_stock_values_df.head(2))\n",
    "print(final_elections_vs_stock_values_df.head(2))\n",
    "print(final_usd_exchange_rate_vs_stock_values_df.head(2))\n",
    "print(final_inflation_vs_stock_values_df.head(2))\n",
    "print(final_natural_disasters_vs_stock_values_df.head(2))\n",
    "print(final_pandamics_vs_stock_values_df.head(2))"
   ]
  },
  {
   "cell_type": "code",
   "execution_count": 43,
   "metadata": {},
   "outputs": [
    {
     "name": "stdout",
     "output_type": "stream",
     "text": [
      "        Label  Month  Year  Close (Rs.)  Loan Rate\n",
      "0   ACL.N0000      1  2000        49.25      13.39\n",
      "1  ARPI.N0000      1  2000        12.50      13.39\n",
      "       Label  Year  Month  Close (Rs.)  Election\n",
      "0  JKH.N0000  1986      8          0.0         0\n",
      "1  SUN.N0000  1990      3         12.5         0\n",
      "       Label  Year  Month  Close (Rs.)  Buy Rate\n",
      "0  JKH.N0000  1986      8          0.0     28.23\n",
      "1  SUN.N0000  1990      3         12.5     40.02\n",
      "       Label  Month  Year  Close (Rs.)  Inflation\n",
      "0  JKH.N0000      8  1986          0.0        9.8\n",
      "1  SUN.N0000      3  1990         12.5       22.3\n"
     ]
    }
   ],
   "source": [
    "print(final_loan_rate_vs_stock_values_df.head(2))\n",
    "print(final_elections_vs_stock_values_df.head(2))\n",
    "print(final_usd_exchange_rate_vs_stock_values_df.head(2))\n",
    "print(final_inflation_vs_stock_values_df.head(2))"
   ]
  },
  {
   "cell_type": "code",
   "execution_count": 44,
   "metadata": {},
   "outputs": [
    {
     "name": "stdout",
     "output_type": "stream",
     "text": [
      "            Label  Month  Year  Close (Rs.)  Loan Rate  Election  Buy Rate  \\\n",
      "0       ACL.N0000      1  2000    49.250000      13.39         0   73.1500   \n",
      "1      ARPI.N0000      1  2000    12.500000      13.39         0   73.1500   \n",
      "2      ASIR.N0000      1  2000    34.083333      13.39         0   73.1500   \n",
      "3       BFL.N0000      1  2000     8.821429      13.39         0   73.1500   \n",
      "4       BHR.N0000      1  2000    18.375000      13.39         0   73.1500   \n",
      "...           ...    ...   ...          ...        ...       ...       ...   \n",
      "24509  VFIN.N0000     12  2016    61.053333       8.50         0  147.4864   \n",
      "24510   VLL.N0000     12  2016     5.493333       8.50         0  147.4864   \n",
      "24511  VONE.N0000     12  2016    18.784211       8.50         0  147.4864   \n",
      "24512  VPEL.N0000     12  2016     8.657895       8.50         0  147.4864   \n",
      "24513  WATA.N0000     12  2016    19.262500       8.50         0  147.4864   \n",
      "\n",
      "       Inflation  \n",
      "0            0.3  \n",
      "1            0.3  \n",
      "2            0.3  \n",
      "3            0.3  \n",
      "4            0.3  \n",
      "...          ...  \n",
      "24509        4.1  \n",
      "24510        4.1  \n",
      "24511        4.1  \n",
      "24512        4.1  \n",
      "24513        4.1  \n",
      "\n",
      "[24514 rows x 8 columns]\n"
     ]
    }
   ],
   "source": [
    "# Merge the DataFrames based on 'Label', 'Year', and 'Month'\n",
    "result_df = pd.merge(final_loan_rate_vs_stock_values_df, final_elections_vs_stock_values_df, on=['Label', 'Year', 'Month'], how='inner', suffixes=('_loan_rate', '_election'))\n",
    "result_df = pd.merge(result_df, final_inflation_vs_stock_values_df, on=['Label', 'Year', 'Month'], how='inner')\n",
    "result_df = pd.merge(result_df, final_usd_exchange_rate_vs_stock_values_df, on=['Label', 'Year', 'Month'], how='inner')\n",
    "\n",
    "# Reorder the columns as per your requirement\n",
    "desired_columns = ['Label', 'Month', 'Year', 'Close (Rs.)', 'Loan Rate', 'Election', 'Buy Rate', 'Inflation']\n",
    "\n",
    "# Rename the columns\n",
    "result_df.rename(columns={\n",
    "    'Close (Rs.)_x': 'Close (Rs.)',\n",
    "    'Loan Rate_loan_rate': 'Loan Rate',\n",
    "    'Election': 'Election',\n",
    "    'Buy Rate': 'Buy Rate',\n",
    "    'Inflation': 'Inflation'\n",
    "}, inplace=True)\n",
    "\n",
    "# Display the resulting dataframe\n",
    "print(result_df[desired_columns])"
   ]
  },
  {
   "cell_type": "code",
   "execution_count": 45,
   "metadata": {},
   "outputs": [],
   "source": [
    "# Remove unnecessary columns\n",
    "result_df.drop(columns=['Close (Rs.)_loan_rate', 'Close (Rs.)_election', 'Close (Rs.)_y'], inplace=True)\n",
    "\n",
    "# Export the cleaned DataFrame to CSV\n",
    "result_df.to_csv('final_completed_merged_data.csv', index=False)"
   ]
  }
 ],
 "metadata": {
  "kernelspec": {
   "display_name": "base",
   "language": "python",
   "name": "python3"
  },
  "language_info": {
   "codemirror_mode": {
    "name": "ipython",
    "version": 3
   },
   "file_extension": ".py",
   "mimetype": "text/x-python",
   "name": "python",
   "nbconvert_exporter": "python",
   "pygments_lexer": "ipython3",
   "version": "3.9.18"
  }
 },
 "nbformat": 4,
 "nbformat_minor": 2
}
