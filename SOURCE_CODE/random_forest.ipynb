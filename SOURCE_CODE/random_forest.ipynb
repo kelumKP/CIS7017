{
 "cells": [
  {
   "cell_type": "code",
   "execution_count": 1,
   "metadata": {},
   "outputs": [
    {
     "name": "stdout",
     "output_type": "stream",
     "text": [
      "Mean Squared Error: 37544.40688655695\n",
      "R-squared: -0.0021436957828282477\n",
      "Feature Importance:\n",
      "Loan Rate: 0.28665262074457\n",
      "Inflation: 0.1829363301471054\n",
      "Buy Rate: 0.5177703921118718\n",
      "Election: 0.01264065699645294\n"
     ]
    }
   ],
   "source": [
    "import pandas as pd\n",
    "from sklearn.ensemble import RandomForestRegressor\n",
    "from sklearn.model_selection import train_test_split\n",
    "from sklearn.metrics import mean_squared_error, r2_score\n",
    "\n",
    "# Load your data from a CSV file\n",
    "# Make sure your CSV file contains columns for 'Close (Rs.)', 'Loan Rate', 'Inflation', 'Buy Rate', and 'Election'\n",
    "df = pd.read_csv('./all_data.csv')  # Replace 'your_data.csv' with the actual data file path\n",
    "\n",
    "# Separate the data into independent variables (X) and the dependent variable (y)\n",
    "X = df[[\"Loan Rate\", \"Inflation\", \"Buy Rate\", \"Election\"]]\n",
    "y = df['Close (Rs.)']\n",
    "\n",
    "# Split the data into training and testing sets\n",
    "X_train, X_test, y_train, y_test = train_test_split(X, y, test_size=0.2, random_state=42)\n",
    "\n",
    "# Create a Random Forest regression model\n",
    "rf_model = RandomForestRegressor(n_estimators=100, random_state=42)\n",
    "\n",
    "# Train the model on the training data\n",
    "rf_model.fit(X_train, y_train)\n",
    "\n",
    "# Make predictions on the test data\n",
    "y_pred = rf_model.predict(X_test)\n",
    "\n",
    "# Evaluate the model's performance\n",
    "mse = mean_squared_error(y_test, y_pred)\n",
    "r2 = r2_score(y_test, y_pred)\n",
    "print(f'Mean Squared Error: {mse}')\n",
    "print(f'R-squared: {r2}')\n",
    "\n",
    "# Get feature importance scores\n",
    "feature_importance = rf_model.feature_importances_\n",
    "print(\"Feature Importance:\")\n",
    "for i, feature in enumerate(X.columns):\n",
    "    print(f\"{feature}: {feature_importance[i]}\")"
   ]
  }
 ],
 "metadata": {
  "kernelspec": {
   "display_name": "base",
   "language": "python",
   "name": "python3"
  },
  "language_info": {
   "codemirror_mode": {
    "name": "ipython",
    "version": 3
   },
   "file_extension": ".py",
   "mimetype": "text/x-python",
   "name": "python",
   "nbconvert_exporter": "python",
   "pygments_lexer": "ipython3",
   "version": "3.9.18"
  }
 },
 "nbformat": 4,
 "nbformat_minor": 2
}
