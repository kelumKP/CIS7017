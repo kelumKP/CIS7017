{
 "cells": [
  {
   "cell_type": "code",
   "execution_count": 1,
   "metadata": {},
   "outputs": [
    {
     "name": "stdout",
     "output_type": "stream",
     "text": [
      "                            OLS Regression Results                            \n",
      "==============================================================================\n",
      "Dep. Variable:            Close (Rs.)   R-squared:                       0.003\n",
      "Model:                            OLS   Adj. R-squared:                  0.003\n",
      "Method:                 Least Squares   F-statistic:                     49.17\n",
      "Date:                Sat, 21 Oct 2023   Prob (F-statistic):           2.44e-12\n",
      "Time:                        23:00:14   Log-Likelihood:            -1.0536e+05\n",
      "No. Observations:               15632   AIC:                         2.107e+05\n",
      "Df Residuals:                   15630   BIC:                         2.107e+05\n",
      "Df Model:                           1                                         \n",
      "Covariance Type:            nonrobust                                         \n",
      "==============================================================================\n",
      "                 coef    std err          t      P>|t|      [0.025      0.975]\n",
      "------------------------------------------------------------------------------\n",
      "const        117.9787      2.263     52.129      0.000     113.543     122.415\n",
      "Inflation     -1.0950      0.156     -7.012      0.000      -1.401      -0.789\n",
      "==============================================================================\n",
      "Omnibus:                    17546.123   Durbin-Watson:                   1.836\n",
      "Prob(Omnibus):                  0.000   Jarque-Bera (JB):          1403884.790\n",
      "Skew:                           5.935   Prob(JB):                         0.00\n",
      "Kurtosis:                      47.883   Cond. No.                         20.1\n",
      "==============================================================================\n",
      "\n",
      "Notes:\n",
      "[1] Standard Errors assume that the covariance matrix of the errors is correctly specified.\n"
     ]
    }
   ],
   "source": [
    "import pandas as pd\n",
    "import statsmodels.api as sm\n",
    "\n",
    "# Load your data from a CSV file\n",
    "# Make sure your CSV file contains columns for 'Close (Rs.)' and 'Inflation'\n",
    "df = pd.read_csv('./all_data.csv')\n",
    "\n",
    "# Specify and fit the linear regression model\n",
    "X = df['Inflation']\n",
    "X = sm.add_constant(X)\n",
    "y = df['Close (Rs.)']\n",
    "model = sm.OLS(y, X).fit()\n",
    "\n",
    "# Get the regression summary\n",
    "print(model.summary())"
   ]
  },
  {
   "cell_type": "code",
   "execution_count": 3,
   "metadata": {},
   "outputs": [
    {
     "name": "stdout",
     "output_type": "stream",
     "text": [
      "                            OLS Regression Results                            \n",
      "==============================================================================\n",
      "Dep. Variable:            Close (Rs.)   R-squared:                       0.024\n",
      "Model:                            OLS   Adj. R-squared:                  0.024\n",
      "Method:                 Least Squares   F-statistic:                     384.2\n",
      "Date:                Sat, 21 Oct 2023   Prob (F-statistic):           1.60e-84\n",
      "Time:                        23:03:39   Log-Likelihood:            -1.0520e+05\n",
      "No. Observations:               15632   AIC:                         2.104e+05\n",
      "Df Residuals:                   15630   BIC:                         2.104e+05\n",
      "Df Model:                           1                                         \n",
      "Covariance Type:            nonrobust                                         \n",
      "==============================================================================\n",
      "                 coef    std err          t      P>|t|      [0.025      0.975]\n",
      "------------------------------------------------------------------------------\n",
      "const        187.4685      4.413     42.485      0.000     178.819     196.118\n",
      "Loan Rate     -6.7682      0.345    -19.600      0.000      -7.445      -6.091\n",
      "==============================================================================\n",
      "Omnibus:                    17491.983   Durbin-Watson:                   1.876\n",
      "Prob(Omnibus):                  0.000   Jarque-Bera (JB):          1400924.027\n",
      "Skew:                           5.901   Prob(JB):                         0.00\n",
      "Kurtosis:                      47.850   Cond. No.                         35.0\n",
      "==============================================================================\n",
      "\n",
      "Notes:\n",
      "[1] Standard Errors assume that the covariance matrix of the errors is correctly specified.\n"
     ]
    }
   ],
   "source": [
    "import pandas as pd\n",
    "import statsmodels.api as sm\n",
    "\n",
    "# Load your data from a CSV file\n",
    "# Make sure your CSV file contains columns for 'Close (Rs.)' and 'Inflation'\n",
    "df = pd.read_csv('./all_data.csv')\n",
    "\n",
    "# Specify and fit the linear regression model\n",
    "X = df['Loan Rate']\n",
    "X = sm.add_constant(X)\n",
    "y = df['Close (Rs.)']\n",
    "model = sm.OLS(y, X).fit()\n",
    "\n",
    "# Get the regression summary\n",
    "print(model.summary())"
   ]
  },
  {
   "cell_type": "code",
   "execution_count": 4,
   "metadata": {},
   "outputs": [
    {
     "name": "stdout",
     "output_type": "stream",
     "text": [
      "                            OLS Regression Results                            \n",
      "==============================================================================\n",
      "Dep. Variable:            Close (Rs.)   R-squared:                       0.005\n",
      "Model:                            OLS   Adj. R-squared:                  0.004\n",
      "Method:                 Least Squares   F-statistic:                     71.27\n",
      "Date:                Sat, 21 Oct 2023   Prob (F-statistic):           3.38e-17\n",
      "Time:                        23:06:27   Log-Likelihood:            -1.0535e+05\n",
      "No. Observations:               15632   AIC:                         2.107e+05\n",
      "Df Residuals:                   15630   BIC:                         2.107e+05\n",
      "Df Model:                           1                                         \n",
      "Covariance Type:            nonrobust                                         \n",
      "==============================================================================\n",
      "                 coef    std err          t      P>|t|      [0.025      0.975]\n",
      "------------------------------------------------------------------------------\n",
      "const         79.2881      3.669     21.607      0.000      72.095      86.481\n",
      "Buy Rate       0.2204      0.026      8.442      0.000       0.169       0.272\n",
      "==============================================================================\n",
      "Omnibus:                    17544.796   Durbin-Watson:                   1.839\n",
      "Prob(Omnibus):                  0.000   Jarque-Bera (JB):          1414926.725\n",
      "Skew:                           5.931   Prob(JB):                         0.00\n",
      "Kurtosis:                      48.074   Cond. No.                         315.\n",
      "==============================================================================\n",
      "\n",
      "Notes:\n",
      "[1] Standard Errors assume that the covariance matrix of the errors is correctly specified.\n"
     ]
    }
   ],
   "source": [
    "import pandas as pd\n",
    "import statsmodels.api as sm\n",
    "\n",
    "# Load your data from a CSV file\n",
    "# Make sure your CSV file contains columns for 'Close (Rs.)' and 'Inflation'\n",
    "df = pd.read_csv('./all_data.csv')\n",
    "\n",
    "# Specify and fit the linear regression model\n",
    "X = df['Buy Rate']\n",
    "X = sm.add_constant(X)\n",
    "y = df['Close (Rs.)']\n",
    "model = sm.OLS(y, X).fit()\n",
    "\n",
    "# Get the regression summary\n",
    "print(model.summary())"
   ]
  },
  {
   "cell_type": "code",
   "execution_count": 5,
   "metadata": {},
   "outputs": [
    {
     "name": "stdout",
     "output_type": "stream",
     "text": [
      "                            OLS Regression Results                            \n",
      "==============================================================================\n",
      "Dep. Variable:            Close (Rs.)   R-squared:                       0.000\n",
      "Model:                            OLS   Adj. R-squared:                 -0.000\n",
      "Method:                 Least Squares   F-statistic:                    0.2959\n",
      "Date:                Sat, 21 Oct 2023   Prob (F-statistic):              0.586\n",
      "Time:                        23:06:56   Log-Likelihood:            -1.0539e+05\n",
      "No. Observations:               15632   AIC:                         2.108e+05\n",
      "Df Residuals:                   15630   BIC:                         2.108e+05\n",
      "Df Model:                           1                                         \n",
      "Covariance Type:            nonrobust                                         \n",
      "==============================================================================\n",
      "                 coef    std err          t      P>|t|      [0.025      0.975]\n",
      "------------------------------------------------------------------------------\n",
      "const        107.3297      1.736     61.822      0.000     103.927     110.733\n",
      "Election      -2.8704      5.277     -0.544      0.586     -13.214       7.473\n",
      "==============================================================================\n",
      "Omnibus:                    17579.005   Durbin-Watson:                   1.831\n",
      "Prob(Omnibus):                  0.000   Jarque-Bera (JB):          1417875.447\n",
      "Skew:                           5.952   Prob(JB):                         0.00\n",
      "Kurtosis:                      48.113   Cond. No.                         3.26\n",
      "==============================================================================\n",
      "\n",
      "Notes:\n",
      "[1] Standard Errors assume that the covariance matrix of the errors is correctly specified.\n"
     ]
    }
   ],
   "source": [
    "import pandas as pd\n",
    "import statsmodels.api as sm\n",
    "\n",
    "# Load your data from a CSV file\n",
    "# Make sure your CSV file contains columns for 'Close (Rs.)' and 'Inflation'\n",
    "df = pd.read_csv('./all_data.csv')\n",
    "\n",
    "# Specify and fit the linear regression model\n",
    "X = df['Election']\n",
    "X = sm.add_constant(X)\n",
    "y = df['Close (Rs.)']\n",
    "model = sm.OLS(y, X).fit()\n",
    "\n",
    "# Get the regression summary\n",
    "print(model.summary())"
   ]
  },
  {
   "cell_type": "code",
   "execution_count": 6,
   "metadata": {},
   "outputs": [
    {
     "name": "stdout",
     "output_type": "stream",
     "text": [
      "                            OLS Regression Results                            \n",
      "==============================================================================\n",
      "Dep. Variable:            Close (Rs.)   R-squared:                       0.025\n",
      "Model:                            OLS   Adj. R-squared:                  0.024\n",
      "Method:                 Least Squares   F-statistic:                     99.10\n",
      "Date:                Sat, 21 Oct 2023   Prob (F-statistic):           1.92e-83\n",
      "Time:                        23:11:05   Log-Likelihood:            -1.0519e+05\n",
      "No. Observations:               15632   AIC:                         2.104e+05\n",
      "Df Residuals:                   15627   BIC:                         2.104e+05\n",
      "Df Model:                           4                                         \n",
      "Covariance Type:            nonrobust                                         \n",
      "==============================================================================\n",
      "                 coef    std err          t      P>|t|      [0.025      0.975]\n",
      "------------------------------------------------------------------------------\n",
      "const        169.4155      8.215     20.623      0.000     153.314     185.517\n",
      "Loan Rate     -5.8012      0.468    -12.404      0.000      -6.718      -4.884\n",
      "Inflation     -0.6535      0.223     -2.932      0.003      -1.090      -0.217\n",
      "Buy Rate       0.1099      0.038      2.855      0.004       0.034       0.185\n",
      "Election      -6.6653      5.246     -1.271      0.204     -16.947       3.617\n",
      "==============================================================================\n",
      "Omnibus:                    17465.496   Durbin-Watson:                   1.877\n",
      "Prob(Omnibus):                  0.000   Jarque-Bera (JB):          1392773.034\n",
      "Skew:                           5.887   Prob(JB):                         0.00\n",
      "Kurtosis:                      47.718   Cond. No.                         725.\n",
      "==============================================================================\n",
      "\n",
      "Notes:\n",
      "[1] Standard Errors assume that the covariance matrix of the errors is correctly specified.\n"
     ]
    }
   ],
   "source": [
    "import pandas as pd\n",
    "import statsmodels.api as sm\n",
    "\n",
    "# Load your data from a CSV file\n",
    "# Make sure your CSV file contains columns for 'Close (Rs.)', 'Loan Rate', 'Inflation', 'Buy Rate', and 'Election'\n",
    "df = pd.read_csv('./all_data.csv')  # Replace 'your_data.csv' with the actual data file path\n",
    "\n",
    "# Specify and fit the multiple regression model\n",
    "X = df[[\"Loan Rate\", \"Inflation\", \"Buy Rate\", \"Election\"]]  # Independent variables\n",
    "X = sm.add_constant(X)  # Add a constant (intercept) term\n",
    "y = df['Close (Rs.)']  # Dependent variable\n",
    "\n",
    "model = sm.OLS(y, X).fit()  # Fit the multiple regression model\n",
    "\n",
    "# Get the regression summary\n",
    "print(model.summary())"
   ]
  },
  {
   "cell_type": "code",
   "execution_count": 7,
   "metadata": {},
   "outputs": [
    {
     "name": "stdout",
     "output_type": "stream",
     "text": [
      "                            OLS Regression Results                            \n",
      "==============================================================================\n",
      "Dep. Variable:            Close (Rs.)   R-squared:                       0.011\n",
      "Model:                            OLS   Adj. R-squared:                  0.011\n",
      "Method:                 Least Squares   F-statistic:                     58.04\n",
      "Date:                Sat, 21 Oct 2023   Prob (F-statistic):           2.64e-37\n",
      "Time:                        23:12:07   Log-Likelihood:            -1.0530e+05\n",
      "No. Observations:               15632   AIC:                         2.106e+05\n",
      "Df Residuals:                   15628   BIC:                         2.106e+05\n",
      "Df Model:                           3                                         \n",
      "Covariance Type:            nonrobust                                         \n",
      "==================================================================================\n",
      "                     coef    std err          t      P>|t|      [0.025      0.975]\n",
      "----------------------------------------------------------------------------------\n",
      "const            107.9531      1.739     62.074      0.000     104.544     111.362\n",
      "TradeVolume       -0.2417      0.031     -7.780      0.000      -0.303      -0.181\n",
      "ShareVolume    -1.372e-05   3.08e-06     -4.462      0.000   -1.98e-05   -7.69e-06\n",
      "Turnover (Rs.)   1.73e-06   1.37e-07     12.610      0.000    1.46e-06       2e-06\n",
      "==============================================================================\n",
      "Omnibus:                    17691.831   Durbin-Watson:                   1.850\n",
      "Prob(Omnibus):                  0.000   Jarque-Bera (JB):          1457026.009\n",
      "Skew:                           6.012   Prob(JB):                         0.00\n",
      "Kurtosis:                      48.743   Cond. No.                     1.83e+07\n",
      "==============================================================================\n",
      "\n",
      "Notes:\n",
      "[1] Standard Errors assume that the covariance matrix of the errors is correctly specified.\n",
      "[2] The condition number is large, 1.83e+07. This might indicate that there are\n",
      "strong multicollinearity or other numerical problems.\n"
     ]
    }
   ],
   "source": [
    "import pandas as pd\n",
    "import statsmodels.api as sm\n",
    "\n",
    "# Load your data from a CSV file\n",
    "# Make sure your CSV file contains columns for 'Close (Rs.)', 'Loan Rate', 'Inflation', 'Buy Rate', and 'Election'\n",
    "df = pd.read_csv('./all_data.csv')  # Replace 'your_data.csv' with the actual data file path\n",
    "\n",
    "# Specify and fit the multiple regression model\n",
    "X = df[[\"TradeVolume\", \"ShareVolume\", \"Turnover (Rs.)\"]]  # Independent variables\n",
    "X = sm.add_constant(X)  # Add a constant (intercept) term\n",
    "y = df['Close (Rs.)']  # Dependent variable\n",
    "\n",
    "model = sm.OLS(y, X).fit()  # Fit the multiple regression model\n",
    "\n",
    "# Get the regression summary\n",
    "print(model.summary())"
   ]
  }
 ],
 "metadata": {
  "kernelspec": {
   "display_name": "base",
   "language": "python",
   "name": "python3"
  },
  "language_info": {
   "codemirror_mode": {
    "name": "ipython",
    "version": 3
   },
   "file_extension": ".py",
   "mimetype": "text/x-python",
   "name": "python",
   "nbconvert_exporter": "python",
   "pygments_lexer": "ipython3",
   "version": "3.9.18"
  }
 },
 "nbformat": 4,
 "nbformat_minor": 2
}
