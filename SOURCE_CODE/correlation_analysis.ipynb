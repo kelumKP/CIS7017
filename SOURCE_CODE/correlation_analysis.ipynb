{
 "cells": [
  {
   "cell_type": "code",
   "execution_count": 2,
   "metadata": {},
   "outputs": [
    {
     "name": "stdout",
     "output_type": "stream",
     "text": [
      "Pearson Correlation Coefficient Close (Rs.) vs Inflation: -0.05600227116446782\n",
      "Two-tailed p-value: 2.438493851286694e-12\n"
     ]
    }
   ],
   "source": [
    "import pandas as pd\n",
    "import numpy as np\n",
    "from scipy import stats\n",
    "\n",
    "# Load your data from a CSV file\n",
    "# Make sure your CSV file contains columns for 'Close (Rs.)' and 'Inflation'\n",
    "df = pd.read_csv('./all_data.csv')  # Replace 'your_data.csv' with your actual data file path\n",
    "\n",
    "# Calculate the Pearson correlation coefficient\n",
    "correlation_coefficient = df['Close (Rs.)'].corr(df['Inflation'])\n",
    "print(f\"Pearson Correlation Coefficient Close (Rs.) vs Inflation: {correlation_coefficient}\")\n",
    "\n",
    "# Calculate the two-tailed p-value for the significance of the correlation coefficient\n",
    "num_data_points = len(df)\n",
    "t_statistic = correlation_coefficient * np.sqrt((num_data_points - 2) / (1 - correlation_coefficient**2))\n",
    "p_value = 2 * (1 - stats.t.cdf(abs(t_statistic), df=num_data_points - 2))\n",
    "print(f\"Two-tailed p-value: {p_value}\")"
   ]
  },
  {
   "cell_type": "code",
   "execution_count": 5,
   "metadata": {},
   "outputs": [
    {
     "name": "stdout",
     "output_type": "stream",
     "text": [
      "Pearson Correlation Coefficient Close (Rs.) vs Loan Rate: -0.15488125194044766\n",
      "Two-tailed p-value: 0.0\n"
     ]
    }
   ],
   "source": [
    "import pandas as pd\n",
    "import numpy as np\n",
    "from scipy import stats\n",
    "\n",
    "# Load your data from a CSV file\n",
    "# Make sure your CSV file contains columns for 'Close (Rs.)' and 'Inflation'\n",
    "df = pd.read_csv('./all_data.csv')  # Replace 'your_data.csv' with your actual data file path\n",
    "\n",
    "# Calculate the Pearson correlation coefficient\n",
    "correlation_coefficient = df['Close (Rs.)'].corr(df['Loan Rate'])\n",
    "print(f\"Pearson Correlation Coefficient Close (Rs.) vs Loan Rate: {correlation_coefficient}\")\n",
    "\n",
    "# Calculate the two-tailed p-value for the significance of the correlation coefficient\n",
    "num_data_points = len(df)\n",
    "t_statistic = correlation_coefficient * np.sqrt((num_data_points - 2) / (1 - correlation_coefficient**2))\n",
    "p_value = 2 * (1 - stats.t.cdf(abs(t_statistic), df=num_data_points - 2))\n",
    "print(f\"Two-tailed p-value: {p_value}\")"
   ]
  },
  {
   "cell_type": "code",
   "execution_count": 6,
   "metadata": {},
   "outputs": [
    {
     "name": "stdout",
     "output_type": "stream",
     "text": [
      "Pearson Correlation Coefficient Close (Rs.) vs Buy Rate: 0.0673746267577474\n",
      "Two-tailed p-value: 0.0\n"
     ]
    }
   ],
   "source": [
    "import pandas as pd\n",
    "import numpy as np\n",
    "from scipy import stats\n",
    "\n",
    "# Load your data from a CSV file\n",
    "# Make sure your CSV file contains columns for 'Close (Rs.)' and 'Inflation'\n",
    "df = pd.read_csv('./all_data.csv')  # Replace 'your_data.csv' with your actual data file path\n",
    "\n",
    "# Calculate the Pearson correlation coefficient\n",
    "correlation_coefficient = df['Close (Rs.)'].corr(df['Buy Rate'])\n",
    "print(f\"Pearson Correlation Coefficient Close (Rs.) vs Buy Rate: {correlation_coefficient}\")\n",
    "\n",
    "# Calculate the two-tailed p-value for the significance of the correlation coefficient\n",
    "num_data_points = len(df)\n",
    "t_statistic = correlation_coefficient * np.sqrt((num_data_points - 2) / (1 - correlation_coefficient**2))\n",
    "p_value = 2 * (1 - stats.t.cdf(abs(t_statistic), df=num_data_points - 2))\n",
    "print(f\"Two-tailed p-value: {p_value}\")"
   ]
  },
  {
   "cell_type": "code",
   "execution_count": 7,
   "metadata": {},
   "outputs": [
    {
     "name": "stdout",
     "output_type": "stream",
     "text": [
      "Pearson Correlation Coefficient Close (Rs.) vs Election: -0.00435082979981403\n",
      "Two-tailed p-value: 0.5864864722663001\n"
     ]
    }
   ],
   "source": [
    "import pandas as pd\n",
    "import numpy as np\n",
    "from scipy import stats\n",
    "\n",
    "# Load your data from a CSV file\n",
    "# Make sure your CSV file contains columns for 'Close (Rs.)' and 'Inflation'\n",
    "df = pd.read_csv('./all_data.csv')  # Replace 'your_data.csv' with your actual data file path\n",
    "\n",
    "# Calculate the Pearson correlation coefficient\n",
    "correlation_coefficient = df['Close (Rs.)'].corr(df['Election'])\n",
    "print(f\"Pearson Correlation Coefficient Close (Rs.) vs Election: {correlation_coefficient}\")\n",
    "\n",
    "# Calculate the two-tailed p-value for the significance of the correlation coefficient\n",
    "num_data_points = len(df)\n",
    "t_statistic = correlation_coefficient * np.sqrt((num_data_points - 2) / (1 - correlation_coefficient**2))\n",
    "p_value = 2 * (1 - stats.t.cdf(abs(t_statistic), df=num_data_points - 2))\n",
    "print(f\"Two-tailed p-value: {p_value}\")"
   ]
  }
 ],
 "metadata": {
  "kernelspec": {
   "display_name": "base",
   "language": "python",
   "name": "python3"
  },
  "language_info": {
   "codemirror_mode": {
    "name": "ipython",
    "version": 3
   },
   "file_extension": ".py",
   "mimetype": "text/x-python",
   "name": "python",
   "nbconvert_exporter": "python",
   "pygments_lexer": "ipython3",
   "version": "3.9.18"
  }
 },
 "nbformat": 4,
 "nbformat_minor": 2
}
