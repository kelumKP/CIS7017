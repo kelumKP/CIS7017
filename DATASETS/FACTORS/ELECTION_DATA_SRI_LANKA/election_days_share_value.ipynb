{
 "cells": [
  {
   "cell_type": "code",
   "execution_count": 9,
   "metadata": {},
   "outputs": [
    {
     "name": "stdout",
     "output_type": "stream",
     "text": [
      "             Label Day Month  Year  Close (Rs.)\n",
      "216103   JKH.N0000  17    08  1986          0.0\n",
      "132130   SUN.N0000  30    03  1990         12.5\n",
      "74593   GREG.N0000  02    04  1990          0.5\n",
      "401097  SELI.N0000  10    01  1991        550.0\n",
      "463724  SHAL.N0000  08    02  1991        575.0\n",
      "...            ...  ..   ...   ...          ...\n",
      "166672  VPEL.N0000  13    10  2023          6.8\n",
      "336467  WAPO.N0000  13    10  2023         31.3\n",
      "446639  WATA.N0000  13    10  2023         74.0\n",
      "69288   WIND.N0000  13    10  2023         19.0\n",
      "132589  YORK.N0000  13    10  2023        168.5\n",
      "\n",
      "[630051 rows x 5 columns]\n"
     ]
    }
   ],
   "source": [
    "import pandas as pd\n",
    "import os\n",
    "\n",
    "# Initialize an empty list to store the dataframes\n",
    "dataframes = []\n",
    "\n",
    "# Specify the directory containing the CSV files\n",
    "directory_path = \"../../CSE_DATA/SHARE_CHANGE/\"\n",
    "\n",
    "filenames = [os.path.join(directory_path, file) for file in os.listdir(directory_path) if file.endswith('.csv')]\n",
    "\n",
    "# Initialize an empty DataFrame to store the data\n",
    "data = pd.DataFrame()\n",
    "\n",
    "# Loop through the CSV files and read them into DataFrames\n",
    "for file in filenames:\n",
    "    df = pd.read_csv(file)\n",
    "    # Extract the label from the file name and remove the \".csv\" extension\n",
    "    label = os.path.basename(file).replace(\".csv\", \"\")\n",
    "    # Add the label as a new column\n",
    "    df['Label'] = label\n",
    "    dataframes.append(df)\n",
    "\n",
    "# Concatenate all DataFrames into a single DataFrame\n",
    "combined_df = pd.concat(dataframes, ignore_index=True)\n",
    "\n",
    "# Filter out data associated with the label 'SWAD.N0000'\n",
    "combined_df = combined_df[combined_df['Label'] != 'SWAD.N0000']\n",
    "\n",
    "# Convert 'Trade Date' from MM/DD/YY to DD/MM/YYYY format\n",
    "combined_df['Trade Date'] = pd.to_datetime(combined_df['Trade Date'], format='%m/%d/%y').dt.strftime('%d/%m/%Y')\n",
    "\n",
    "# Split 'Trade Date' into 'Day', 'Month', and 'Year' columns\n",
    "combined_df[['Day', 'Month', 'Year']] = combined_df['Trade Date'].str.split('/', expand=True)\n",
    "\n",
    "\n",
    "# Select the columns 'Label', 'Day', 'Month', 'Year', and 'Close (Rs.)'\n",
    "selected_columns = ['Label', 'Day', 'Month', 'Year', 'Close (Rs.)']\n",
    "result_df = combined_df[selected_columns]\n",
    "\n",
    "# Sort the DataFrame by 'Label' and the new date columns\n",
    "result_df = result_df.sort_values(by=['Year', 'Month', 'Day', 'Label'])\n",
    "\n",
    "print(result_df)"
   ]
  },
  {
   "cell_type": "code",
   "execution_count": 11,
   "metadata": {},
   "outputs": [
    {
     "name": "stdout",
     "output_type": "stream",
     "text": [
      "    Election Number                                      Election Name  \\\n",
      "0                 1                 General Election - 1 State Council   \n",
      "1                 2                 General Election - 2 State Council   \n",
      "2                 3  General Election - House of Representatives (1...   \n",
      "3                 4  General Election - House of Representatives  (...   \n",
      "4                 5  General Election - House of Representatives  (...   \n",
      "..              ...                                                ...   \n",
      "75               75  General Election - 8 Parliament of the D.S.R. ...   \n",
      "76               76                          Local Government Election   \n",
      "77               77                          Elpitiya Pradeshiya Sabha   \n",
      "78               78                          Presidential Election (8)   \n",
      "79               79  General Election - 9 Parliament of the D.S.R. ...   \n",
      "\n",
      "    Start Day  Start Month  Start Year  End Day  End Month  End Year  \n",
      "0          13            6        1931       20          6      1931  \n",
      "1          22            2        1936        7          3      1936  \n",
      "2          23            8        1947       20          9      1947  \n",
      "3          24            5        1952       30          5      1952  \n",
      "4           5            4        1956       10          4      1956  \n",
      "..        ...          ...         ...      ...        ...       ...  \n",
      "75         17            8        2015       18          8      2015  \n",
      "76         10            2        2018       11          2      2018  \n",
      "77         11           10        2019       12         10      2019  \n",
      "78         16           11        2019       17         11      2019  \n",
      "79          5            8        2020        6          8      2020  \n",
      "\n",
      "[80 rows x 8 columns]\n"
     ]
    }
   ],
   "source": [
    "import pandas as pd\n",
    "\n",
    "# Read the CSV file into a DataFrame\n",
    "election_df = pd.read_csv('./ELECTION_DATA_SRI_LANKA.csv')\n",
    "\n",
    "# Define a function to split the date into day, month, and year\n",
    "def split_date(date_str):\n",
    "    day, month, year = map(int, date_str.split('.'))\n",
    "    return day, month, year\n",
    "\n",
    "# Apply the split_date function to \"Date From\" and \"Date To\" columns\n",
    "election_df[['Start Day', 'Start Month', 'Start Year']] = election_df['Date From'].apply(split_date).apply(pd.Series)\n",
    "election_df[['End Day', 'End Month', 'End Year']] = election_df['Date To'].apply(split_date).apply(pd.Series)\n",
    "\n",
    "# Drop the original date columns\n",
    "election_df = election_df.drop(['Date From', 'Date To'], axis=1)\n",
    "\n",
    "# Rename columns\n",
    "election_df = election_df.rename(columns={'Election Number': 'Election Number',\n",
    "                        'Election Name': 'Election Name',\n",
    "                        'Start Day': 'Start Day',\n",
    "                        'Start Month': 'Start Month',\n",
    "                        'Start Year': 'Start Year',\n",
    "                        'End Day': 'End Day',\n",
    "                        'End Month': 'End Month',\n",
    "                        'End Year': 'End Year'})\n",
    "\n",
    "# Print the resulting DataFrame\n",
    "print(election_df)"
   ]
  },
  {
   "cell_type": "code",
   "execution_count": 19,
   "metadata": {},
   "outputs": [
    {
     "name": "stdout",
     "output_type": "stream",
     "text": [
      "             Label Day Month  Year  Close (Rs.)\n",
      "9591     ACL.N0000  17    05  1993        72.50\n",
      "9592     BHR.N0000  17    05  1993        39.75\n",
      "9593    BOGA.N0000  17    05  1993         5.75\n",
      "9594     CCS.N0000  17    05  1993        18.00\n",
      "9595    CFIN.N0000  17    05  1993         0.00\n",
      "...            ...  ..   ...   ...          ...\n",
      "531472  VFIN.N0000  06    08  2020        58.60\n",
      "531473   VLL.N0000  06    08  2020         4.90\n",
      "531474  VONE.N0000  06    08  2020        15.00\n",
      "531475  VPEL.N0000  06    08  2020         6.00\n",
      "531476  WATA.N0000  06    08  2020        30.00\n",
      "\n",
      "[3165 rows x 5 columns]\n"
     ]
    }
   ],
   "source": [
    "# Read the date_ranges from the CSV file\n",
    "date_ranges_df = pd.read_csv('./ELECTION_DATA_SRI_LANKA.csv')\n",
    "\n",
    "# Initialize an empty DataFrame to store the filtered results\n",
    "filtered_results = pd.DataFrame(columns=selected_columns)\n",
    "\n",
    "# Iterate through the date ranges from the CSV file\n",
    "for index, row in date_ranges_df.iterrows():\n",
    "    date_from = pd.to_datetime(row['Date From'], format='%d.%m.%Y')\n",
    "    date_to = pd.to_datetime(row['Date To'], format='%d.%m.%Y')\n",
    "\n",
    "    # Filter the DataFrame for each date range\n",
    "    filtered_df = result_df[\n",
    "        (pd.to_datetime(result_df['Year'] + result_df['Month'] + result_df['Day'], format='%Y%m%d') >= date_from) &\n",
    "        (pd.to_datetime(result_df['Year'] + result_df['Month'] + result_df['Day'], format='%Y%m%d') <= date_to)\n",
    "    ]\n",
    "\n",
    "    # Append the filtered results to the final DataFrame\n",
    "    filtered_results = pd.concat([filtered_results, filtered_df])\n",
    "\n",
    "# Sort the final DataFrame by 'Label' and the new date columns\n",
    "filtered_results = filtered_results.sort_values(by=['Year', 'Month', 'Day', 'Label'])\n",
    "\n",
    "print(filtered_results)"
   ]
  },
  {
   "cell_type": "code",
   "execution_count": 20,
   "metadata": {},
   "outputs": [
    {
     "name": "stdout",
     "output_type": "stream",
     "text": [
      "             Label Day Month  Year  Close (Rs.)  Election\n",
      "0        JKH.N0000  17    08  1986          0.0         0\n",
      "1        SUN.N0000  30    03  1990         12.5         0\n",
      "2       GREG.N0000  02    04  1990          0.5         0\n",
      "3       SELI.N0000  10    01  1991        550.0         0\n",
      "4       SHAL.N0000  08    02  1991        575.0         0\n",
      "...            ...  ..   ...   ...          ...       ...\n",
      "630046  VPEL.N0000  13    10  2023          6.8         0\n",
      "630047  WAPO.N0000  13    10  2023         31.3         0\n",
      "630048  WATA.N0000  13    10  2023         74.0         0\n",
      "630049  WIND.N0000  13    10  2023         19.0         0\n",
      "630050  YORK.N0000  13    10  2023        168.5         0\n",
      "\n",
      "[630051 rows x 6 columns]\n"
     ]
    }
   ],
   "source": [
    "# Read the date_ranges from the CSV file\n",
    "date_ranges_df = pd.read_csv('./ELECTION_DATA_SRI_LANKA.csv')\n",
    "\n",
    "# Initialize the \"Election\" column with 0 for all rows\n",
    "result_df['Election'] = 0\n",
    "\n",
    "# Iterate through the date ranges from the CSV file\n",
    "for index, row in date_ranges_df.iterrows():\n",
    "    date_from = pd.to_datetime(row['Date From'], format='%d.%m.%Y')\n",
    "    date_to = pd.to_datetime(row['Date To'], format='%d.%m.%Y')\n",
    "\n",
    "    # Create a mask to identify rows that satisfy the date range condition\n",
    "    mask = (\n",
    "        (pd.to_datetime(result_df['Year'] + result_df['Month'] + result_df['Day'], format='%Y%m%d') >= date_from) &\n",
    "        (pd.to_datetime(result_df['Year'] + result_df['Month'] + result_df['Day'], format='%Y%m%d') <= date_to)\n",
    "    )\n",
    "\n",
    "    # Update the \"Election\" column to 1 for the rows that satisfy the condition\n",
    "    result_df.loc[mask, 'Election'] = 1\n",
    "\n",
    "# Sort the final DataFrame by 'Label' and the new date columns\n",
    "result_df = result_df.sort_values(by=['Year', 'Month', 'Day', 'Label'])\n",
    "\n",
    "print(result_df)"
   ]
  },
  {
   "cell_type": "code",
   "execution_count": 21,
   "metadata": {},
   "outputs": [],
   "source": [
    "result_df.to_csv('filtered_data_with_election.csv', index=False)"
   ]
  }
 ],
 "metadata": {
  "kernelspec": {
   "display_name": "base",
   "language": "python",
   "name": "python3"
  },
  "language_info": {
   "codemirror_mode": {
    "name": "ipython",
    "version": 3
   },
   "file_extension": ".py",
   "mimetype": "text/x-python",
   "name": "python",
   "nbconvert_exporter": "python",
   "pygments_lexer": "ipython3",
   "version": "3.9.18"
  }
 },
 "nbformat": 4,
 "nbformat_minor": 2
}
