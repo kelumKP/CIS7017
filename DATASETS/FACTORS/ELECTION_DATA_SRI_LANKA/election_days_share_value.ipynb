{
 "cells": [
  {
   "cell_type": "code",
   "execution_count": 78,
   "metadata": {},
   "outputs": [
    {
     "name": "stdout",
     "output_type": "stream",
     "text": [
      "            Label  Year Month  Close (Rs.)\n",
      "19629   JKH.N0000  1986    08         0.00\n",
      "35686   SUN.N0000  1990    03        12.50\n",
      "16090  GREG.N0000  1990    04         0.50\n",
      "32359  SELI.N0000  1991    01       550.00\n",
      "33994  SHAL.N0000  1991    02       575.00\n",
      "...           ...   ...   ...          ...\n",
      "40074  VPEL.N0000  2023    10         6.80\n",
      "40078  WAPO.N0000  2023    10        31.50\n",
      "40388  WATA.N0000  2023    10        74.20\n",
      "40419  WIND.N0000  2023    10        18.55\n",
      "40423  YORK.N0000  2023    10       165.00\n",
      "\n",
      "[40424 rows x 4 columns]\n"
     ]
    }
   ],
   "source": [
    "import pandas as pd\n",
    "import os\n",
    "\n",
    "# Initialize an empty list to store the dataframes\n",
    "dataframes = []\n",
    "\n",
    "# Specify the directory containing the CSV files\n",
    "directory_path = \"../../CSE_DATA/SHARE_CHANGE/\"\n",
    "\n",
    "filenames = [os.path.join(directory_path, file) for file in os.listdir(directory_path) if file.endswith('.csv')]\n",
    "\n",
    "# Initialize an empty DataFrame to store the data\n",
    "data = pd.DataFrame()\n",
    "\n",
    "# Loop through the CSV files and read them into DataFrames\n",
    "for file in filenames:\n",
    "    df = pd.read_csv(file)\n",
    "    # Extract the label from the file name and remove the \".csv\" extension\n",
    "    label = os.path.basename(file).replace(\".csv\", \"\")\n",
    "    # Add the label as a new column\n",
    "    df['Label'] = label\n",
    "    dataframes.append(df)\n",
    "\n",
    "# Concatenate all DataFrames into a single DataFrame\n",
    "combined_df = pd.concat(dataframes, ignore_index=True)\n",
    "\n",
    "# Filter out data associated with the label 'SWAD.N0000'\n",
    "combined_df = combined_df[combined_df['Label'] != 'SWAD.N0000']\n",
    "\n",
    "# Convert 'Trade Date' from MM/DD/YY to DD/MM/YYYY format\n",
    "combined_df['Trade Date'] = pd.to_datetime(combined_df['Trade Date'], format='%m/%d/%y').dt.strftime('%d/%m/%Y')\n",
    "\n",
    "# Split 'Trade Date' into 'Day', 'Month', and 'Year' columns\n",
    "combined_df[['Day', 'Month', 'Year']] = combined_df['Trade Date'].str.split('/', expand=True)\n",
    "\n",
    "\n",
    "# Select the columns 'Label', 'Day', 'Month', 'Year', and 'Close (Rs.)'\n",
    "selected_columns = ['Label', 'Day', 'Month', 'Year', 'Close (Rs.)']\n",
    "result_df = combined_df[selected_columns]\n",
    "\n",
    "\n",
    "# Group by 'Label', 'Year', and 'Month' and calculate the median\n",
    "final_result = result_df.groupby(['Label', 'Year', 'Month'])['Close (Rs.)'].median().reset_index()\n",
    "\n",
    "\n",
    "# Sort the DataFrame by 'Label' and the new date columns\n",
    "final_result = final_result.sort_values(by=['Year', 'Month', 'Label'])\n",
    "\n",
    "print(final_result)"
   ]
  },
  {
   "cell_type": "code",
   "execution_count": 79,
   "metadata": {},
   "outputs": [
    {
     "name": "stdout",
     "output_type": "stream",
     "text": [
      "    Election Number                                      Election Name  \\\n",
      "0                 1                 General Election - 1 State Council   \n",
      "1                 2                 General Election - 2 State Council   \n",
      "2                 3  General Election - House of Representatives (1...   \n",
      "3                 4  General Election - House of Representatives  (...   \n",
      "4                 5  General Election - House of Representatives  (...   \n",
      "..              ...                                                ...   \n",
      "75               75  General Election - 8 Parliament of the D.S.R. ...   \n",
      "76               76                          Local Government Election   \n",
      "77               77                          Elpitiya Pradeshiya Sabha   \n",
      "78               78                          Presidential Election (8)   \n",
      "79               79  General Election - 9 Parliament of the D.S.R. ...   \n",
      "\n",
      "    Start Day  Start Month  Start Year  End Day  End Month  End Year  \n",
      "0          13            6        1931       20          6      1931  \n",
      "1          22            2        1936        7          3      1936  \n",
      "2          23            8        1947       20          9      1947  \n",
      "3          24            5        1952       30          5      1952  \n",
      "4           5            4        1956       10          4      1956  \n",
      "..        ...          ...         ...      ...        ...       ...  \n",
      "75         17            8        2015       18          8      2015  \n",
      "76         10            2        2018       11          2      2018  \n",
      "77         11           10        2019       12         10      2019  \n",
      "78         16           11        2019       17         11      2019  \n",
      "79          5            8        2020        6          8      2020  \n",
      "\n",
      "[80 rows x 8 columns]\n"
     ]
    }
   ],
   "source": [
    "import pandas as pd\n",
    "\n",
    "# Read the CSV file into a DataFrame\n",
    "election_df = pd.read_csv('./ELECTION_DATA_SRI_LANKA.csv')\n",
    "\n",
    "# Define a function to split the date into day, month, and year\n",
    "def split_date(date_str):\n",
    "    day, month, year = map(int, date_str.split('.'))\n",
    "    return day, month, year\n",
    "\n",
    "# Apply the split_date function to \"Date From\" and \"Date To\" columns\n",
    "election_df[['Start Day', 'Start Month', 'Start Year']] = election_df['Date From'].apply(split_date).apply(pd.Series)\n",
    "election_df[['End Day', 'End Month', 'End Year']] = election_df['Date To'].apply(split_date).apply(pd.Series)\n",
    "\n",
    "# Drop the original date columns\n",
    "election_df = election_df.drop(['Date From', 'Date To'], axis=1)\n",
    "\n",
    "# Rename columns\n",
    "election_df = election_df.rename(columns={'Election Number': 'Election Number',\n",
    "                        'Election Name': 'Election Name',\n",
    "                        'Start Day': 'Start Day',\n",
    "                        'Start Month': 'Start Month',\n",
    "                        'Start Year': 'Start Year',\n",
    "                        'End Day': 'End Day',\n",
    "                        'End Month': 'End Month',\n",
    "                        'End Year': 'End Year'})\n",
    "\n",
    "# Print the resulting DataFrame\n",
    "print(election_df)"
   ]
  },
  {
   "cell_type": "code",
   "execution_count": 80,
   "metadata": {},
   "outputs": [
    {
     "name": "stdout",
     "output_type": "stream",
     "text": [
      "    Year  Month  Election\n",
      "0   1931      6         1\n",
      "1   1936      2         1\n",
      "2   1936      3         1\n",
      "3   1947      8         1\n",
      "4   1947      9         1\n",
      "..   ...    ...       ...\n",
      "77  2015      8         1\n",
      "78  2018      2         1\n",
      "79  2019     10         1\n",
      "80  2019     11         1\n",
      "81  2020      8         1\n",
      "\n",
      "[82 rows x 3 columns]\n"
     ]
    }
   ],
   "source": [
    "# Create a new DataFrame for Year, Month, and Election\n",
    "new_data = []\n",
    "\n",
    "for index, row in election_df.iterrows():\n",
    "    start_year = row['Start Year']\n",
    "    end_year = row['End Year']\n",
    "    start_month = row['Start Month']\n",
    "    end_month = row['End Month']\n",
    "\n",
    "    # Add the start date with Election as 1\n",
    "    new_data.append([start_year, start_month, 1])\n",
    "\n",
    "\n",
    "    # Check if start and end dates are different, and add intermediate dates with Election as 1\n",
    "    if (start_year, start_month) != (end_year, end_month):\n",
    "        current_year, current_month = start_year, start_month\n",
    "        while (current_year, current_month) != (end_year, end_month):\n",
    "            current_month += 1\n",
    "            if current_month > 12:\n",
    "                current_month = 1\n",
    "                current_year += 1\n",
    "            # Check if the date is not already in new_data to avoid duplicates\n",
    "            if [current_year, current_month, 1] not in new_data:\n",
    "                new_data.append([current_year, current_month, 1])\n",
    "\n",
    "# Create the new DataFrame\n",
    "original_df = pd.DataFrame(new_data, columns=['Year', 'Month', 'Election'])\n",
    "\n",
    "# Display the new DataFrame\n",
    "print(original_df)"
   ]
  },
  {
   "cell_type": "code",
   "execution_count": 81,
   "metadata": {},
   "outputs": [
    {
     "name": "stdout",
     "output_type": "stream",
     "text": [
      "      Year  Month  Election\n",
      "0     1931      1         0\n",
      "1     1931      2         0\n",
      "2     1931      3         0\n",
      "3     1931      4         0\n",
      "4     1931      5         0\n",
      "...    ...    ...       ...\n",
      "1096  2020      8         1\n",
      "1097  2020      9         0\n",
      "1098  2020     10         0\n",
      "1099  2020     11         0\n",
      "1100  2020     12         0\n",
      "\n",
      "[1101 rows x 3 columns]\n"
     ]
    }
   ],
   "source": [
    "# Find the starting and ending years\n",
    "start_year = original_df['Year'].min()\n",
    "end_year = original_df['Year'].max()\n",
    "\n",
    "# Create a DataFrame with all months between start and end years\n",
    "all_months = [(y, m) for y in range(start_year, end_year + 1) for m in range(1, 13)]\n",
    "new_df = pd.DataFrame(all_months, columns=['Year', 'Month'])\n",
    "\n",
    "# Merge the original DataFrame back to the new DataFrame to keep the Election column relevant\n",
    "result_df = pd.merge(new_df, original_df, on=['Year', 'Month'], how='left')\n",
    "\n",
    "# Fill the missing Election values with 0 and convert the Election column to integer\n",
    "result_df['Election'] = result_df['Election'].fillna(0).astype(int)\n",
    "\n",
    "# Print the result\n",
    "print(result_df)"
   ]
  },
  {
   "cell_type": "code",
   "execution_count": 82,
   "metadata": {},
   "outputs": [
    {
     "name": "stdout",
     "output_type": "stream",
     "text": [
      "            Label  Year  Month  Close (Rs.)  Election\n",
      "0       JKH.N0000  1986      8          0.0         0\n",
      "1       SUN.N0000  1990      3         12.5         0\n",
      "2      GREG.N0000  1990      4          0.5         0\n",
      "3      SELI.N0000  1991      1        550.0         0\n",
      "4      SHAL.N0000  1991      2        575.0         0\n",
      "...           ...   ...    ...          ...       ...\n",
      "37277  VFIN.N0000  2020     12         65.6         0\n",
      "37278   VLL.N0000  2020     12          5.9         0\n",
      "37279  VONE.N0000  2020     12         25.6         0\n",
      "37280  VPEL.N0000  2020     12          7.9         0\n",
      "37281  WATA.N0000  2020     12         55.9         0\n",
      "\n",
      "[37282 rows x 5 columns]\n"
     ]
    }
   ],
   "source": [
    "final_result['Year'] = final_result['Year'].astype(int)\n",
    "final_result['Month'] = final_result['Month'].astype(int)\n",
    "\n",
    "# Perform the left join based on 'Label', 'Year', and 'Month'\n",
    "election_vs_stock_price_df = pd.merge(final_result, result_df, on=['Year', 'Month'], how='left')\n",
    "\n",
    "# Drop rows where 'Election' is NaN\n",
    "election_vs_stock_price_df = election_vs_stock_price_df.dropna(subset=['Election'])\n",
    "\n",
    "# Convert the \"Election\" column to integers\n",
    "election_vs_stock_price_df['Election'] = election_vs_stock_price_df['Election'].astype(int)\n",
    "\n",
    "# Print the result\n",
    "print(election_vs_stock_price_df)"
   ]
  },
  {
   "cell_type": "code",
   "execution_count": 83,
   "metadata": {},
   "outputs": [],
   "source": [
    "election_vs_stock_price_df.to_csv('final_elections_vs_stock_values.csv', index=False)"
   ]
  }
 ],
 "metadata": {
  "kernelspec": {
   "display_name": "base",
   "language": "python",
   "name": "python3"
  },
  "language_info": {
   "codemirror_mode": {
    "name": "ipython",
    "version": 3
   },
   "file_extension": ".py",
   "mimetype": "text/x-python",
   "name": "python",
   "nbconvert_exporter": "python",
   "pygments_lexer": "ipython3",
   "version": "3.9.18"
  }
 },
 "nbformat": 4,
 "nbformat_minor": 2
}
