{
 "cells": [
  {
   "cell_type": "code",
   "execution_count": 1,
   "metadata": {},
   "outputs": [
    {
     "name": "stdout",
     "output_type": "stream",
     "text": [
      "Correlation between Election and Close (Rs.): 0.0008691145969690979\n"
     ]
    }
   ],
   "source": [
    "import pandas as pd\n",
    "\n",
    "# Assuming you have your data in a DataFrame named 'df'\n",
    "# You can read the CSV file into a DataFrame like this:\n",
    "df = pd.read_csv('final_elections_vs_stock_values.csv')\n",
    "\n",
    "# Extract the \"Election\" and \"Close (Rs.)\" columns\n",
    "election = df['Election']\n",
    "close_price = df['Close (Rs.)']\n",
    "\n",
    "# Calculate the correlation coefficient between the two columns\n",
    "correlation = election.corr(close_price)\n",
    "\n",
    "# Print the correlation coefficient\n",
    "print(f\"Correlation between Election and Close (Rs.): {correlation}\")"
   ]
  },
  {
   "cell_type": "code",
   "execution_count": 2,
   "metadata": {},
   "outputs": [
    {
     "name": "stdout",
     "output_type": "stream",
     "text": [
      "Regression Equation: Close (Rs.) = 2.630685 * Election + 87.047548\n"
     ]
    }
   ],
   "source": [
    "import pandas as pd\n",
    "from sklearn.linear_model import LinearRegression\n",
    "import numpy as np\n",
    "\n",
    "# Assuming you have your data in a DataFrame named 'df'\n",
    "# You can read the CSV file into a DataFrame like this:\n",
    "df = pd.read_csv('final_elections_vs_stock_values.csv')\n",
    "\n",
    "# Extract the \"Election\" and \"Close (Rs.)\" columns\n",
    "election = df['Election']\n",
    "close_price = df['Close (Rs.)']\n",
    "\n",
    "# Reshape the data to ensure it's in the right format for scikit-learn\n",
    "election = election.values.reshape(-1, 1)\n",
    "\n",
    "# Create a linear regression model\n",
    "model = LinearRegression()\n",
    "\n",
    "# Fit the model to your data\n",
    "model.fit(election, close_price)\n",
    "\n",
    "# Get the regression coefficients (slope and intercept)\n",
    "slope = model.coef_[0]\n",
    "intercept = model.intercept_\n",
    "\n",
    "# Print the results\n",
    "print(f\"Regression Equation: Close (Rs.) = {slope:.6f} * Election + {intercept:.6f}\")"
   ]
  },
  {
   "cell_type": "code",
   "execution_count": 3,
   "metadata": {},
   "outputs": [
    {
     "name": "stderr",
     "output_type": "stream",
     "text": [
      "/Users/kelumrubasin/opt/anaconda3/lib/python3.9/site-packages/statsmodels/tsa/stattools.py:1488: FutureWarning: verbose is deprecated since functions should not print results\n",
      "  warnings.warn(\n"
     ]
    },
    {
     "name": "stdout",
     "output_type": "stream",
     "text": [
      "\n",
      "Granger Causality\n",
      "number of lags (no zero) 1\n",
      "ssr based F test:         F=0.0010  , p=0.9742  , df_denom=630047, df_num=1\n",
      "ssr based chi2 test:   chi2=0.0010  , p=0.9742  , df=1\n",
      "likelihood ratio test: chi2=0.0010  , p=0.9742  , df=1\n",
      "parameter F test:         F=0.0010  , p=0.9742  , df_denom=630047, df_num=1\n",
      "\n",
      "Granger Causality\n",
      "number of lags (no zero) 2\n",
      "ssr based F test:         F=0.0045  , p=0.9955  , df_denom=630044, df_num=2\n",
      "ssr based chi2 test:   chi2=0.0089  , p=0.9955  , df=2\n",
      "likelihood ratio test: chi2=0.0089  , p=0.9955  , df=2\n",
      "parameter F test:         F=0.0045  , p=0.9955  , df_denom=630044, df_num=2\n",
      "\n",
      "Granger Causality\n",
      "number of lags (no zero) 3\n",
      "ssr based F test:         F=0.0128  , p=0.9980  , df_denom=630041, df_num=3\n",
      "ssr based chi2 test:   chi2=0.0383  , p=0.9980  , df=3\n",
      "likelihood ratio test: chi2=0.0383  , p=0.9980  , df=3\n",
      "parameter F test:         F=0.0128  , p=0.9980  , df_denom=630041, df_num=3\n",
      "\n",
      "Granger Causality\n",
      "number of lags (no zero) 4\n",
      "ssr based F test:         F=0.0337  , p=0.9978  , df_denom=630038, df_num=4\n",
      "ssr based chi2 test:   chi2=0.1350  , p=0.9978  , df=4\n",
      "likelihood ratio test: chi2=0.1350  , p=0.9978  , df=4\n",
      "parameter F test:         F=0.0337  , p=0.9978  , df_denom=630038, df_num=4\n",
      "\n",
      "Granger Causality\n",
      "number of lags (no zero) 5\n",
      "ssr based F test:         F=0.0274  , p=0.9996  , df_denom=630035, df_num=5\n",
      "ssr based chi2 test:   chi2=0.1372  , p=0.9996  , df=5\n",
      "likelihood ratio test: chi2=0.1372  , p=0.9996  , df=5\n",
      "parameter F test:         F=0.0274  , p=0.9996  , df_denom=630035, df_num=5\n"
     ]
    }
   ],
   "source": [
    "import pandas as pd\n",
    "from statsmodels.tsa.stattools import grangercausalitytests\n",
    "\n",
    "# Assuming you have your data in a DataFrame named 'df'\n",
    "# You can read the CSV file into a DataFrame like this:\n",
    "df = pd.read_csv('final_elections_vs_stock_values.csv')\n",
    "\n",
    "# Extract the \"Election\" and \"Close (Rs.)\" columns\n",
    "data = df[['Election', 'Close (Rs.)']]\n",
    "\n",
    "# Perform the Granger causality test\n",
    "max_lag = 5  # You can adjust the lag value as needed\n",
    "test_result = grangercausalitytests(data, max_lag, verbose=True)"
   ]
  },
  {
   "cell_type": "code",
   "execution_count": 4,
   "metadata": {},
   "outputs": [
    {
     "name": "stdout",
     "output_type": "stream",
     "text": [
      "Collecting factor_analyzer\n",
      "  Downloading factor_analyzer-0.5.0.tar.gz (42 kB)\n",
      "\u001b[2K     \u001b[90m━━━━━━━━━━━━━━━━━━━━━━━━━━━━━━━━━━━━━━━━\u001b[0m \u001b[32m42.5/42.5 kB\u001b[0m \u001b[31m1.6 MB/s\u001b[0m eta \u001b[36m0:00:00\u001b[0m\n",
      "\u001b[?25h  Installing build dependencies ... \u001b[?25ldone\n",
      "\u001b[?25h  Getting requirements to build wheel ... \u001b[?25ldone\n",
      "\u001b[?25h  Preparing metadata (pyproject.toml) ... \u001b[?25ldone\n",
      "\u001b[?25hRequirement already satisfied: pandas in /Users/kelumrubasin/opt/anaconda3/lib/python3.9/site-packages (from factor_analyzer) (1.5.3)\n",
      "Requirement already satisfied: scipy in /Users/kelumrubasin/opt/anaconda3/lib/python3.9/site-packages (from factor_analyzer) (1.9.3)\n",
      "Requirement already satisfied: numpy in /Users/kelumrubasin/opt/anaconda3/lib/python3.9/site-packages (from factor_analyzer) (1.25.2)\n",
      "Requirement already satisfied: scikit-learn in /Users/kelumrubasin/opt/anaconda3/lib/python3.9/site-packages (from factor_analyzer) (1.2.2)\n",
      "Collecting pre-commit (from factor_analyzer)\n",
      "  Obtaining dependency information for pre-commit from https://files.pythonhosted.org/packages/6c/75/526915fedf462e05eeb1c75ceaf7e3f9cde7b5ce6f62740fe5f7f19a0050/pre_commit-3.5.0-py2.py3-none-any.whl.metadata\n",
      "  Downloading pre_commit-3.5.0-py2.py3-none-any.whl.metadata (1.3 kB)\n",
      "Requirement already satisfied: python-dateutil>=2.8.1 in /Users/kelumrubasin/opt/anaconda3/lib/python3.9/site-packages (from pandas->factor_analyzer) (2.8.2)\n",
      "Requirement already satisfied: pytz>=2020.1 in /Users/kelumrubasin/opt/anaconda3/lib/python3.9/site-packages (from pandas->factor_analyzer) (2023.3.post1)\n",
      "Collecting cfgv>=2.0.0 (from pre-commit->factor_analyzer)\n",
      "  Obtaining dependency information for cfgv>=2.0.0 from https://files.pythonhosted.org/packages/c5/55/51844dd50c4fc7a33b653bfaba4c2456f06955289ca770a5dbd5fd267374/cfgv-3.4.0-py2.py3-none-any.whl.metadata\n",
      "  Downloading cfgv-3.4.0-py2.py3-none-any.whl.metadata (8.5 kB)\n",
      "Collecting identify>=1.0.0 (from pre-commit->factor_analyzer)\n",
      "  Obtaining dependency information for identify>=1.0.0 from https://files.pythonhosted.org/packages/34/67/efd868b790f08deb931574df58381df79f59c0ec4eb5fd67ed00328a414f/identify-2.5.30-py2.py3-none-any.whl.metadata\n",
      "  Downloading identify-2.5.30-py2.py3-none-any.whl.metadata (4.4 kB)\n",
      "Collecting nodeenv>=0.11.1 (from pre-commit->factor_analyzer)\n",
      "  Obtaining dependency information for nodeenv>=0.11.1 from https://files.pythonhosted.org/packages/1a/e6/6d2ead760a9ddb35e65740fd5a57e46aadd7b0c49861ab24f94812797a1c/nodeenv-1.8.0-py2.py3-none-any.whl.metadata\n",
      "  Downloading nodeenv-1.8.0-py2.py3-none-any.whl.metadata (21 kB)\n",
      "Requirement already satisfied: pyyaml>=5.1 in /Users/kelumrubasin/opt/anaconda3/lib/python3.9/site-packages (from pre-commit->factor_analyzer) (6.0)\n",
      "Collecting virtualenv>=20.10.0 (from pre-commit->factor_analyzer)\n",
      "  Obtaining dependency information for virtualenv>=20.10.0 from https://files.pythonhosted.org/packages/4e/8b/f0d3a468c0186c603217a6656ea4f49259630e8ed99558501d92f6ff7dc3/virtualenv-20.24.5-py3-none-any.whl.metadata\n",
      "  Downloading virtualenv-20.24.5-py3-none-any.whl.metadata (4.5 kB)\n",
      "Requirement already satisfied: joblib>=1.1.1 in /Users/kelumrubasin/opt/anaconda3/lib/python3.9/site-packages (from scikit-learn->factor_analyzer) (1.2.0)\n",
      "Requirement already satisfied: threadpoolctl>=2.0.0 in /Users/kelumrubasin/opt/anaconda3/lib/python3.9/site-packages (from scikit-learn->factor_analyzer) (2.2.0)\n",
      "Requirement already satisfied: setuptools in /Users/kelumrubasin/opt/anaconda3/lib/python3.9/site-packages (from nodeenv>=0.11.1->pre-commit->factor_analyzer) (68.0.0)\n",
      "Requirement already satisfied: six>=1.5 in /Users/kelumrubasin/opt/anaconda3/lib/python3.9/site-packages (from python-dateutil>=2.8.1->pandas->factor_analyzer) (1.16.0)\n",
      "Collecting distlib<1,>=0.3.7 (from virtualenv>=20.10.0->pre-commit->factor_analyzer)\n",
      "  Obtaining dependency information for distlib<1,>=0.3.7 from https://files.pythonhosted.org/packages/43/a0/9ba967fdbd55293bacfc1507f58e316f740a3b231fc00e3d86dc39bc185a/distlib-0.3.7-py2.py3-none-any.whl.metadata\n",
      "  Downloading distlib-0.3.7-py2.py3-none-any.whl.metadata (5.1 kB)\n",
      "Collecting filelock<4,>=3.12.2 (from virtualenv>=20.10.0->pre-commit->factor_analyzer)\n",
      "  Obtaining dependency information for filelock<4,>=3.12.2 from https://files.pythonhosted.org/packages/5e/5d/97afbafd9d584ff1b45fcb354a479a3609bd97f912f8f1f6c563cb1fae21/filelock-3.12.4-py3-none-any.whl.metadata\n",
      "  Downloading filelock-3.12.4-py3-none-any.whl.metadata (2.8 kB)\n",
      "Requirement already satisfied: platformdirs<4,>=3.9.1 in /Users/kelumrubasin/opt/anaconda3/lib/python3.9/site-packages (from virtualenv>=20.10.0->pre-commit->factor_analyzer) (3.10.0)\n",
      "Downloading pre_commit-3.5.0-py2.py3-none-any.whl (203 kB)\n",
      "\u001b[2K   \u001b[90m━━━━━━━━━━━━━━━━━━━━━━━━━━━━━━━━━━━━━━━━\u001b[0m \u001b[32m203.7/203.7 kB\u001b[0m \u001b[31m1.4 MB/s\u001b[0m eta \u001b[36m0:00:00\u001b[0ma \u001b[36m0:00:01\u001b[0mm\n",
      "\u001b[?25hDownloading cfgv-3.4.0-py2.py3-none-any.whl (7.2 kB)\n",
      "Downloading identify-2.5.30-py2.py3-none-any.whl (98 kB)\n",
      "\u001b[2K   \u001b[90m━━━━━━━━━━━━━━━━━━━━━━━━━━━━━━━━━━━━━━━━\u001b[0m \u001b[32m98.9/98.9 kB\u001b[0m \u001b[31m2.6 MB/s\u001b[0m eta \u001b[36m0:00:00\u001b[0ma \u001b[36m0:00:01\u001b[0m\n",
      "\u001b[?25hDownloading nodeenv-1.8.0-py2.py3-none-any.whl (22 kB)\n",
      "Downloading virtualenv-20.24.5-py3-none-any.whl (3.7 MB)\n",
      "\u001b[2K   \u001b[90m━━━━━━━━━━━━━━━━━━━━━━━━━━━━━━━━━━━━━━━━\u001b[0m \u001b[32m3.7/3.7 MB\u001b[0m \u001b[31m3.3 MB/s\u001b[0m eta \u001b[36m0:00:00\u001b[0m00:01\u001b[0m00:01\u001b[0m\n",
      "\u001b[?25hDownloading distlib-0.3.7-py2.py3-none-any.whl (468 kB)\n",
      "\u001b[2K   \u001b[90m━━━━━━━━━━━━━━━━━━━━━━━━━━━━━━━━━━━━━━━━\u001b[0m \u001b[32m468.9/468.9 kB\u001b[0m \u001b[31m3.8 MB/s\u001b[0m eta \u001b[36m0:00:00\u001b[0m00:01\u001b[0m00:01\u001b[0m\n",
      "\u001b[?25hDownloading filelock-3.12.4-py3-none-any.whl (11 kB)\n",
      "Building wheels for collected packages: factor_analyzer\n",
      "  Building wheel for factor_analyzer (pyproject.toml) ... \u001b[?25ldone\n",
      "\u001b[?25h  Created wheel for factor_analyzer: filename=factor_analyzer-0.5.0-py2.py3-none-any.whl size=42487 sha256=3e4f2e82247f7e586d9f41d0d017ebdef476e5de55f1a5f1e52c98a6fe26422f\n",
      "  Stored in directory: /Users/kelumrubasin/Library/Caches/pip/wheels/dc/d9/72/5261b2f7c80c1de8c85a0d32a8deea3879f6346ead6a85d910\n",
      "Successfully built factor_analyzer\n",
      "Installing collected packages: distlib, nodeenv, identify, filelock, cfgv, virtualenv, pre-commit, factor_analyzer\n",
      "  Attempting uninstall: filelock\n",
      "    Found existing installation: filelock 3.9.0\n",
      "    Uninstalling filelock-3.9.0:\n",
      "      Successfully uninstalled filelock-3.9.0\n",
      "Successfully installed cfgv-3.4.0 distlib-0.3.7 factor_analyzer-0.5.0 filelock-3.12.4 identify-2.5.30 nodeenv-1.8.0 pre-commit-3.5.0 virtualenv-20.24.5\n",
      "Note: you may need to restart the kernel to use updated packages.\n"
     ]
    }
   ],
   "source": [
    "pip install factor_analyzer"
   ]
  },
  {
   "cell_type": "code",
   "execution_count": 1,
   "metadata": {},
   "outputs": [
    {
     "name": "stdout",
     "output_type": "stream",
     "text": [
      "Factor Loadings:\n",
      " [[ 2.94808380e-02 -7.86146626e-06]\n",
      " [ 2.94806357e-02  9.21170767e-05]]\n"
     ]
    }
   ],
   "source": [
    "import pandas as pd\n",
    "from factor_analyzer import FactorAnalyzer\n",
    "\n",
    "# Assuming you have your data in a DataFrame named 'df'\n",
    "# You can read the CSV file into a DataFrame like this:\n",
    "df = pd.read_csv('./final_elections_vs_stock_values.csv')\n",
    "\n",
    "# Extract the \"Election\" and \"Close (Rs.)\" columns\n",
    "data = df[['Election', 'Close (Rs.)']]\n",
    "\n",
    "# Create a FactorAnalyzer instance\n",
    "fa = FactorAnalyzer()\n",
    "\n",
    "# Fit the model to your data\n",
    "fa.fit(data)\n",
    "\n",
    "# Obtain factor loadings\n",
    "factor_loadings = fa.loadings_\n",
    "\n",
    "# Print the factor loadings\n",
    "print(\"Factor Loadings:\\n\", factor_loadings)"
   ]
  }
 ],
 "metadata": {
  "kernelspec": {
   "display_name": "base",
   "language": "python",
   "name": "python3"
  },
  "language_info": {
   "codemirror_mode": {
    "name": "ipython",
    "version": 3
   },
   "file_extension": ".py",
   "mimetype": "text/x-python",
   "name": "python",
   "nbconvert_exporter": "python",
   "pygments_lexer": "ipython3",
   "version": "3.9.18"
  }
 },
 "nbformat": 4,
 "nbformat_minor": 2
}
