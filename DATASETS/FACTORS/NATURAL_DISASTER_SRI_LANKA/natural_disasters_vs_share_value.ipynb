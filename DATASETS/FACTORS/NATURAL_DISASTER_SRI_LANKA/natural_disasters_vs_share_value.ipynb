{
 "cells": [
  {
   "cell_type": "code",
   "execution_count": 45,
   "metadata": {},
   "outputs": [
    {
     "name": "stdout",
     "output_type": "stream",
     "text": [
      "    Id  Year  Month  Natural_Disasters\n",
      "0    1  1984      7                  1\n",
      "1    2  1986      2                  1\n",
      "2    3  1986      4                  1\n",
      "3    4  1989      6                  1\n",
      "4    5  1990      1                  1\n",
      "..  ..   ...    ...                ...\n",
      "62  64  2022      6                  1\n",
      "63  65  2022      8                  1\n",
      "64  66  2023      5                  2\n",
      "66  68  2023      8                  1\n",
      "67  69  2023     10                  1\n",
      "\n",
      "[64 rows x 4 columns]\n"
     ]
    }
   ],
   "source": [
    "import pandas as pd\n",
    "\n",
    "# Read the CSV file into a DataFrame\n",
    "df = pd.read_csv('./NATURAL_DISASTERS.csv')\n",
    "\n",
    "# Define a dictionary to map month names to integers\n",
    "month_to_int = {\n",
    "    'January': 1, 'Feburary': 2, 'March': 3, 'April': 4, 'May': 5, 'June': 6,\n",
    "    'July': 7, 'August': 8, 'September': 9, 'October': 10, 'November': 11, 'December': 12\n",
    "}\n",
    "\n",
    "# Map the \"Affected Month\" column to integer values\n",
    "df['Month'] = df['Affected Month'].map(month_to_int)\n",
    "\n",
    "# Group by \"Year\" and \"Month\" and count occurrences\n",
    "df['Natural_Disasters'] = df.groupby(['Affected Year', 'Month'])['Id'].transform('count')\n",
    "\n",
    "# Create a new DataFrame with the specified columns\n",
    "natural_disasters_df = df[['Id', 'Affected Year', 'Month', 'Natural_Disasters']]\n",
    "\n",
    "# Rename the \"Affected Year\" column to \"Year\"\n",
    "natural_disasters_df = natural_disasters_df.rename(columns={'Affected Year': 'Year'})\n",
    "\n",
    "# Drop duplicate rows based on \"Year,\" \"Month,\" and \"Natural_Disasters\" columns\n",
    "natural_disasters_df = natural_disasters_df.drop_duplicates(subset=['Year', 'Month', 'Natural_Disasters'])\n",
    "\n",
    "# Print the resulting DataFrame\n",
    "print(natural_disasters_df)"
   ]
  },
  {
   "cell_type": "code",
   "execution_count": 46,
   "metadata": {},
   "outputs": [
    {
     "name": "stdout",
     "output_type": "stream",
     "text": [
      "            Label  Month  Year  Close (Rs.)\n",
      "0       JKH.N0000      8  1986     0.000000\n",
      "1       SUN.N0000      3  1990    12.500000\n",
      "2      GREG.N0000      4  1990     0.500000\n",
      "3      SELI.N0000      1  1991   550.000000\n",
      "4      SHAL.N0000      2  1991   575.000000\n",
      "...           ...    ...   ...          ...\n",
      "40419  VPEL.N0000     10  2023     6.850000\n",
      "40420  WAPO.N0000     10  2023    31.410000\n",
      "40421  WATA.N0000     10  2023    74.180000\n",
      "40422  WIND.N0000     10  2023    18.620000\n",
      "40423  YORK.N0000     10  2023   161.357143\n",
      "\n",
      "[40424 rows x 4 columns]\n"
     ]
    }
   ],
   "source": [
    "import pandas as pd\n",
    "import os\n",
    "\n",
    "# Initialize an empty list to store the dataframes\n",
    "dataframes = []\n",
    "\n",
    "# Specify the directory containing the CSV files\n",
    "directory_path = \"../../CSE_DATA/SHARE_CHANGE/\"\n",
    "\n",
    "filenames = [os.path.join(directory_path, file) for file in os.listdir(directory_path) if file.endswith('.csv')]\n",
    "\n",
    "# Initialize an empty DataFrame to store the data\n",
    "data = pd.DataFrame()\n",
    "\n",
    "# Loop through the CSV files and read them into DataFrames\n",
    "for file in filenames:\n",
    "    df = pd.read_csv(file)\n",
    "    # Extract the label from the file name and remove the '.csv' extension\n",
    "    label = os.path.basename(file).replace('.csv', '')\n",
    "    # Add the label as a new column\n",
    "    df['Label'] = label\n",
    "    dataframes.append(df)\n",
    "\n",
    "# Concatenate all DataFrames into a single DataFrame\n",
    "combined_df = pd.concat(dataframes, ignore_index=True)\n",
    "\n",
    "# Filter out data associated with the label 'SWAD.N0000'\n",
    "combined_df = combined_df[combined_df['Label'] != 'SWAD.N0000']\n",
    "\n",
    "# Convert 'Trade Date' to datetime format\n",
    "combined_df['Trade Date'] = pd.to_datetime(combined_df['Trade Date'], format='%m/%d/%y')\n",
    "\n",
    "# Extract 'Month' and 'Year' from 'Trade Date'\n",
    "combined_df['Month'] = combined_df['Trade Date'].dt.month\n",
    "combined_df['Year'] = combined_df['Trade Date'].dt.year\n",
    "\n",
    "# Select the columns 'Label', 'Month', 'Year', and 'Close (Rs.)'\n",
    "selected_columns = ['Label', 'Month', 'Year', 'Close (Rs.)']\n",
    "\n",
    "# Group by 'Label', 'Month', and 'Year' and calculate the mean value of 'Close (Rs.)'\n",
    "result_df = combined_df[selected_columns].groupby(['Label', 'Month', 'Year']).mean().reset_index()\n",
    "\n",
    "# Sort the DataFrame by 'Year' and 'Month'\n",
    "result_df = result_df.sort_values(by=['Year', 'Month'])\n",
    "\n",
    "# Reset the index for the result DataFrame\n",
    "result_df = result_df.reset_index(drop=True)\n",
    "\n",
    "print(result_df)"
   ]
  },
  {
   "cell_type": "code",
   "execution_count": 47,
   "metadata": {},
   "outputs": [
    {
     "name": "stdout",
     "output_type": "stream",
     "text": [
      "            Label  Month  Year  Natural_Disasters  Close (Rs.)\n",
      "0       JKH.N0000      8  1986                0.0     0.000000\n",
      "1       SUN.N0000      3  1990                0.0    12.500000\n",
      "2      GREG.N0000      4  1990                0.0     0.500000\n",
      "3      SELI.N0000      1  1991                0.0   550.000000\n",
      "4      SHAL.N0000      2  1991                0.0   575.000000\n",
      "...           ...    ...   ...                ...          ...\n",
      "40419  VPEL.N0000     10  2023                1.0     6.850000\n",
      "40420  WAPO.N0000     10  2023                1.0    31.410000\n",
      "40421  WATA.N0000     10  2023                1.0    74.180000\n",
      "40422  WIND.N0000     10  2023                1.0    18.620000\n",
      "40423  YORK.N0000     10  2023                1.0   161.357143\n",
      "\n",
      "[40424 rows x 5 columns]\n"
     ]
    }
   ],
   "source": [
    "# Merge the result_df with natural_disasters_df on 'Month' and 'Year'\n",
    "result_df = result_df.merge(natural_disasters_df, on=['Month', 'Year'], how='left')\n",
    "\n",
    "# Fill missing values (where no match was found) with 0\n",
    "result_df['Natural_Disasters'] = result_df['Natural_Disasters'].fillna(0)\n",
    "\n",
    "# Reorder the columns if needed\n",
    "result_df = result_df[['Label', 'Month', 'Year', 'Natural_Disasters', 'Close (Rs.)']]\n",
    "\n",
    "# Print the resulting DataFrame\n",
    "print(result_df)"
   ]
  },
  {
   "cell_type": "code",
   "execution_count": 48,
   "metadata": {},
   "outputs": [],
   "source": [
    "# Export the DataFrame to a CSV file\n",
    "result_df.to_csv('share_value_vs_natural_disasters.csv', index=False)"
   ]
  },
  {
   "cell_type": "code",
   "execution_count": 49,
   "metadata": {},
   "outputs": [
    {
     "data": {
      "image/png": "[encoded data removed]",
      "text/plain": [
       "<Figure size 800x600 with 2 Axes>"
      ]
     },
     "metadata": {},
     "output_type": "display_data"
    }
   ],
   "source": [
    "import pandas as pd\n",
    "import seaborn as sns\n",
    "import matplotlib.pyplot as plt\n",
    "\n",
    "\n",
    "# Select the relevant columns for the heatmap\n",
    "data = result_df[['Close (Rs.)', 'Natural_Disasters']]\n",
    "\n",
    "# Calculate the correlation matrix\n",
    "correlation_matrix = data.corr()\n",
    "\n",
    "# Create a heatmap\n",
    "plt.figure(figsize=(8, 6))\n",
    "sns.heatmap(correlation_matrix, annot=True, cmap='coolwarm', linewidths=.5)\n",
    "plt.title('Correlation Heatmap for Close (Rs.) and Loan Rate')\n",
    "plt.show()"
   ]
  }
 ],
 "metadata": {
  "kernelspec": {
   "display_name": "base",
   "language": "python",
   "name": "python3"
  },
  "language_info": {
   "codemirror_mode": {
    "name": "ipython",
    "version": 3
   },
   "file_extension": ".py",
   "mimetype": "text/x-python",
   "name": "python",
   "nbconvert_exporter": "python",
   "pygments_lexer": "ipython3",
   "version": "3.9.18"
  }
 },
 "nbformat": 4,
 "nbformat_minor": 2
}
