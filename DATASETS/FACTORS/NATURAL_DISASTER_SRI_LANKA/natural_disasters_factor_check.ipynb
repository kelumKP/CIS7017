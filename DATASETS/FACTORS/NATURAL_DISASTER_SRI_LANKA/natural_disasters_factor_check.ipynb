{
 "cells": [
  {
   "cell_type": "code",
   "execution_count": 1,
   "metadata": {},
   "outputs": [
    {
     "name": "stdout",
     "output_type": "stream",
     "text": [
      "Correlation between Natural_Disasters and Close (Rs.): 0.01\n"
     ]
    }
   ],
   "source": [
    "import pandas as pd\n",
    "\n",
    "# Assuming your data is in a DataFrame\n",
    "# Replace 'your_data.csv' with the path to your CSV file\n",
    "df = pd.read_csv('./final_natural_disasters_vs_stock_values.csv')\n",
    "\n",
    "# Calculate the correlation coefficient\n",
    "correlation = df['Natural_Disasters'].corr(df['Close (Rs.)'])\n",
    "\n",
    "print(f\"Correlation between Natural_Disasters and Close (Rs.): {correlation:.2f}\")"
   ]
  },
  {
   "cell_type": "code",
   "execution_count": 3,
   "metadata": {},
   "outputs": [
    {
     "name": "stdout",
     "output_type": "stream",
     "text": [
      "Regression Coefficients:\n",
      "Slope (Coefficient): 3.4429\n",
      "Intercept: 101.7219\n",
      "R-squared Value: 0.0000\n"
     ]
    }
   ],
   "source": [
    "import pandas as pd\n",
    "from sklearn.linear_model import LinearRegression\n",
    "import matplotlib.pyplot as plt\n",
    "\n",
    "# Assuming your data is in a DataFrame\n",
    "# Replace 'your_data.csv' with the path to your CSV file\n",
    "df = pd.read_csv('./final_natural_disasters_vs_stock_values.csv')\n",
    "\n",
    "\n",
    "# Extract the independent variable (Natural_Disasters) and dependent variable (Close (Rs.))\n",
    "X = df[['Natural_Disasters']]\n",
    "y = df['Close (Rs.)']\n",
    "\n",
    "# Create and fit a linear regression model\n",
    "model = LinearRegression()\n",
    "model.fit(X, y)\n",
    "\n",
    "# Get the regression coefficients\n",
    "slope = model.coef_[0]\n",
    "intercept = model.intercept_\n",
    "\n",
    "# Get the R-squared value\n",
    "r_squared = model.score(X, y)\n",
    "\n",
    "print(f\"Regression Coefficients:\\nSlope (Coefficient): {slope:.4f}\\nIntercept: {intercept:.4f}\")\n",
    "print(f\"R-squared Value: {r_squared:.4f}\")"
   ]
  },
  {
   "cell_type": "code",
   "execution_count": 4,
   "metadata": {},
   "outputs": [
    {
     "name": "stdout",
     "output_type": "stream",
     "text": [
      "\n",
      "Granger Causality\n",
      "number of lags (no zero) 1\n",
      "ssr based F test:         F=0.0268  , p=0.8700  , df_denom=40420, df_num=1\n",
      "ssr based chi2 test:   chi2=0.0268  , p=0.8700  , df=1\n",
      "likelihood ratio test: chi2=0.0268  , p=0.8700  , df=1\n",
      "parameter F test:         F=0.0268  , p=0.8700  , df_denom=40420, df_num=1\n",
      "\n",
      "Granger Causality\n",
      "number of lags (no zero) 2\n",
      "ssr based F test:         F=0.0141  , p=0.9860  , df_denom=40417, df_num=2\n",
      "ssr based chi2 test:   chi2=0.0283  , p=0.9860  , df=2\n",
      "likelihood ratio test: chi2=0.0283  , p=0.9860  , df=2\n",
      "parameter F test:         F=0.0141  , p=0.9860  , df_denom=40417, df_num=2\n",
      "\n",
      "Granger Causality\n",
      "number of lags (no zero) 3\n",
      "ssr based F test:         F=0.0107  , p=0.9985  , df_denom=40414, df_num=3\n",
      "ssr based chi2 test:   chi2=0.0322  , p=0.9985  , df=3\n",
      "likelihood ratio test: chi2=0.0322  , p=0.9985  , df=3\n",
      "parameter F test:         F=0.0107  , p=0.9985  , df_denom=40414, df_num=3\n"
     ]
    },
    {
     "name": "stderr",
     "output_type": "stream",
     "text": [
      "/Users/kelumrubasin/opt/anaconda3/lib/python3.9/site-packages/statsmodels/tsa/stattools.py:1488: FutureWarning: verbose is deprecated since functions should not print results\n",
      "  warnings.warn(\n"
     ]
    }
   ],
   "source": [
    "import pandas as pd\n",
    "from statsmodels.tsa.stattools import grangercausalitytests\n",
    "\n",
    "# Assuming your data is in a DataFrame\n",
    "# Replace 'your_data.csv' with the path to your CSV file\n",
    "df = pd.read_csv('final_natural_disasters_vs_stock_values.csv')\n",
    "\n",
    "# Extract the relevant columns\n",
    "data = df[['Natural_Disasters', 'Close (Rs.)']]\n",
    "\n",
    "# Perform Granger causality testing\n",
    "max_lag = 3  # You can adjust this as needed\n",
    "test_result = grangercausalitytests(data, max_lag, verbose=True)"
   ]
  },
  {
   "cell_type": "code",
   "execution_count": 5,
   "metadata": {},
   "outputs": [
    {
     "name": "stdout",
     "output_type": "stream",
     "text": [
      "Explained Variance Ratio: [9.99997019e-01 2.98105322e-06]\n",
      "Principal Components: [[ 1.02639425e-05  1.00000000e+00]\n",
      " [ 1.00000000e+00 -1.02639425e-05]]\n"
     ]
    }
   ],
   "source": [
    "import pandas as pd\n",
    "from sklearn.decomposition import PCA\n",
    "\n",
    "# Assuming your data is in a DataFrame\n",
    "# Replace 'your_data.csv' with the path to your CSV file\n",
    "df = pd.read_csv('./final_natural_disasters_vs_stock_values.csv')\n",
    "\n",
    "# Extract the relevant columns\n",
    "data = df[['Natural_Disasters', 'Close (Rs.)']]\n",
    "\n",
    "# Perform Principal Component Analysis (PCA)\n",
    "pca = PCA(n_components=2)  # You have 2 variables\n",
    "pca.fit(data)\n",
    "\n",
    "# Get the explained variance ratio\n",
    "explained_variance_ratio = pca.explained_variance_ratio_\n",
    "\n",
    "# Get the principal components\n",
    "principal_components = pca.components_\n",
    "\n",
    "print(f\"Explained Variance Ratio: {explained_variance_ratio}\")\n",
    "print(f\"Principal Components: {principal_components}\")"
   ]
  }
 ],
 "metadata": {
  "kernelspec": {
   "display_name": "base",
   "language": "python",
   "name": "python3"
  },
  "language_info": {
   "codemirror_mode": {
    "name": "ipython",
    "version": 3
   },
   "file_extension": ".py",
   "mimetype": "text/x-python",
   "name": "python",
   "nbconvert_exporter": "python",
   "pygments_lexer": "ipython3",
   "version": "3.9.18"
  }
 },
 "nbformat": 4,
 "nbformat_minor": 2
}
