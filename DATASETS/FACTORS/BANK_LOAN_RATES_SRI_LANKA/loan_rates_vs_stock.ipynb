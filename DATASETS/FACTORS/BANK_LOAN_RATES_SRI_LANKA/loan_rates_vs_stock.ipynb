{
 "cells": [
  {
   "cell_type": "code",
   "execution_count": 13,
   "metadata": {},
   "outputs": [
    {
     "name": "stdout",
     "output_type": "stream",
     "text": [
      "            Label  Year Month  Close (Rs.)\n",
      "19629   JKH.N0000  1986    08         0.00\n",
      "35686   SUN.N0000  1990    03        12.50\n",
      "16090  GREG.N0000  1990    04         0.50\n",
      "32359  SELI.N0000  1991    01       550.00\n",
      "33994  SHAL.N0000  1991    02       575.00\n",
      "...           ...   ...   ...          ...\n",
      "40074  VPEL.N0000  2023    10         6.80\n",
      "40078  WAPO.N0000  2023    10        31.50\n",
      "40388  WATA.N0000  2023    10        74.20\n",
      "40419  WIND.N0000  2023    10        18.55\n",
      "40423  YORK.N0000  2023    10       165.00\n",
      "\n",
      "[40424 rows x 4 columns]\n"
     ]
    }
   ],
   "source": [
    "import pandas as pd\n",
    "import os\n",
    "\n",
    "# Initialize an empty list to store the dataframes\n",
    "dataframes = []\n",
    "\n",
    "# Specify the directory containing the CSV files\n",
    "directory_path = \"../../CSE_DATA/SHARE_CHANGE/\"\n",
    "\n",
    "filenames = [os.path.join(directory_path, file) for file in os.listdir(directory_path) if file.endswith('.csv')]\n",
    "\n",
    "# Initialize an empty DataFrame to store the data\n",
    "data = pd.DataFrame()\n",
    "\n",
    "# Loop through the CSV files and read them into DataFrames\n",
    "for file in filenames:\n",
    "    df = pd.read_csv(file)\n",
    "    # Extract the label from the file name and remove the \".csv\" extension\n",
    "    label = os.path.basename(file).replace(\".csv\", \"\")\n",
    "    # Add the label as a new column\n",
    "    df['Label'] = label\n",
    "    dataframes.append(df)\n",
    "\n",
    "# Concatenate all DataFrames into a single DataFrame\n",
    "combined_df = pd.concat(dataframes, ignore_index=True)\n",
    "\n",
    "# Filter out data associated with the label 'SWAD.N0000'\n",
    "combined_df = combined_df[combined_df['Label'] != 'SWAD.N0000']\n",
    "\n",
    "# Convert 'Trade Date' from MM/DD/YY to DD/MM/YYYY format\n",
    "combined_df['Trade Date'] = pd.to_datetime(combined_df['Trade Date'], format='%m/%d/%y').dt.strftime('%d/%m/%Y')\n",
    "\n",
    "# Split 'Trade Date' into 'Day', 'Month', and 'Year' columns\n",
    "combined_df[['Day', 'Month', 'Year']] = combined_df['Trade Date'].str.split('/', expand=True)\n",
    "\n",
    "\n",
    "# Select the columns 'Label', 'Day', 'Month', 'Year', and 'Close (Rs.)'\n",
    "selected_columns = ['Label', 'Day', 'Month', 'Year', 'Close (Rs.)']\n",
    "result_df = combined_df[selected_columns]\n",
    "\n",
    "\n",
    "# Group by 'Label', 'Year', and 'Month' and calculate the median\n",
    "final_result = result_df.groupby(['Label', 'Year', 'Month'])['Close (Rs.)'].median().reset_index()\n",
    "\n",
    "\n",
    "# Sort the DataFrame by 'Label' and the new date columns\n",
    "final_result = final_result.sort_values(by=['Year', 'Month', 'Label'])\n",
    "\n",
    "print(final_result)"
   ]
  },
  {
   "cell_type": "code",
   "execution_count": 14,
   "metadata": {},
   "outputs": [
    {
     "name": "stdout",
     "output_type": "stream",
     "text": [
      "     Year  Month  Loan Rate\n",
      "0    1990      1       18.7\n",
      "1    1990      2       18.7\n",
      "2    1990      3       18.7\n",
      "3    1990      4       18.7\n",
      "4    1990      5       18.7\n",
      "..    ...    ...        ...\n",
      "401  2023      6       14.0\n",
      "402  2023      7       12.0\n",
      "403  2023      8       12.0\n",
      "404  2023      9       12.0\n",
      "405  2023     10       12.0\n",
      "\n",
      "[406 rows x 3 columns]\n"
     ]
    }
   ],
   "source": [
    "\n",
    "# Replace 'your_existing_file.csv' with the actual path to your CSV file\n",
    "csv_file = 'loan_rates_result.csv'\n",
    "\n",
    "# Read the CSV file into a DataFrame\n",
    "loan_rates_1990_2023 = pd.read_csv(csv_file)\n",
    "\n",
    "# Display the DataFrame\n",
    "print(loan_rates_1990_2023)"
   ]
  },
  {
   "cell_type": "code",
   "execution_count": 15,
   "metadata": {},
   "outputs": [
    {
     "name": "stdout",
     "output_type": "stream",
     "text": [
      "            Label  Year  Month  Close (Rs.)  Loan Rate\n",
      "0       JKH.N0000  1986      8         0.00        NaN\n",
      "1       SUN.N0000  1990      3        12.50       18.7\n",
      "2      GREG.N0000  1990      4         0.50       18.7\n",
      "3      SELI.N0000  1991      1       550.00       19.3\n",
      "4      SHAL.N0000  1991      2       575.00       19.3\n",
      "...           ...   ...    ...          ...        ...\n",
      "40419  VPEL.N0000  2023     10         6.80       12.0\n",
      "40420  WAPO.N0000  2023     10        31.50       12.0\n",
      "40421  WATA.N0000  2023     10        74.20       12.0\n",
      "40422  WIND.N0000  2023     10        18.55       12.0\n",
      "40423  YORK.N0000  2023     10       165.00       12.0\n",
      "\n",
      "[40424 rows x 5 columns]\n"
     ]
    }
   ],
   "source": [
    "final_result['Year'] = final_result['Year'].astype(int)\n",
    "final_result['Month'] = final_result['Month'].astype(int)\n",
    "\n",
    "loan_rates_1990_2023['Year'] = loan_rates_1990_2023['Year'].astype(int)\n",
    "loan_rates_1990_2023['Month'] = loan_rates_1990_2023['Month'].astype(int)\n",
    "\n",
    "# Perform a left join based on 'Year' and 'Month' columns\n",
    "result = final_result.merge(loan_rates_1990_2023, on=['Year', 'Month'], how='left')\n",
    "\n",
    "# Display the resulting DataFrame\n",
    "print(result)"
   ]
  },
  {
   "cell_type": "code",
   "execution_count": 16,
   "metadata": {},
   "outputs": [
    {
     "name": "stdout",
     "output_type": "stream",
     "text": [
      "            Label  Year  Month  Close (Rs.)  Loan Rate\n",
      "1       SUN.N0000  1990      3        12.50       18.7\n",
      "2      GREG.N0000  1990      4         0.50       18.7\n",
      "3      SELI.N0000  1991      1       550.00       19.3\n",
      "4      SHAL.N0000  1991      2       575.00       19.3\n",
      "5      KZOO.N0000  1991      4       125.00       19.3\n",
      "...           ...   ...    ...          ...        ...\n",
      "40419  VPEL.N0000  2023     10         6.80       12.0\n",
      "40420  WAPO.N0000  2023     10        31.50       12.0\n",
      "40421  WATA.N0000  2023     10        74.20       12.0\n",
      "40422  WIND.N0000  2023     10        18.55       12.0\n",
      "40423  YORK.N0000  2023     10       165.00       12.0\n",
      "\n",
      "[40423 rows x 5 columns]\n"
     ]
    }
   ],
   "source": [
    "final_result['Year'] = final_result['Year'].astype(int)\n",
    "final_result['Month'] = final_result['Month'].astype(int)\n",
    "\n",
    "loan_rates_1990_2023['Year'] = loan_rates_1990_2023['Year'].astype(int)\n",
    "loan_rates_1990_2023['Month'] = loan_rates_1990_2023['Month'].astype(int)\n",
    "\n",
    "# Perform a left join based on 'Year' and 'Month' columns\n",
    "result = final_result.merge(loan_rates_1990_2023, on=['Year', 'Month'], how='left')\n",
    "\n",
    "# Assuming 'result' is your DataFrame\n",
    "result = result.dropna(subset=['Loan Rate'])\n",
    "\n",
    "# Display the resulting DataFrame\n",
    "print(result)\n",
    "\n",
    "# Assuming 'result' is your DataFrame after removing NaN values\n",
    "result.to_csv('final_loan_rate_vs_stock_values.csv', index=False)"
   ]
  }
 ],
 "metadata": {
  "kernelspec": {
   "display_name": "base",
   "language": "python",
   "name": "python3"
  },
  "language_info": {
   "codemirror_mode": {
    "name": "ipython",
    "version": 3
   },
   "file_extension": ".py",
   "mimetype": "text/x-python",
   "name": "python",
   "nbconvert_exporter": "python",
   "pygments_lexer": "ipython3",
   "version": "3.9.18"
  }
 },
 "nbformat": 4,
 "nbformat_minor": 2
}
