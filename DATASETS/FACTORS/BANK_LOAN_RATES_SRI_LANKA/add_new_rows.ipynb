{
 "cells": [
  {
   "cell_type": "code",
   "execution_count": 4,
   "metadata": {},
   "outputs": [
    {
     "name": "stdout",
     "output_type": "stream",
     "text": [
      "New rows added in the 'DD.MM.YYYY' format with a loan rate of 18.70.\n"
     ]
    }
   ],
   "source": [
    "import csv\n",
    "\n",
    "# Define the new data to add\n",
    "new_rows = []\n",
    "loan_rate = 18.70\n",
    "\n",
    "# Loop through years from 1990 to 1999\n",
    "for year in range(1990, 2000):\n",
    "    # Loop through months from 1 to 12\n",
    "    for month in range(1, 13):\n",
    "        # Format the date in the \"DD.MM.YYYY\" format\n",
    "        date = f\"01.{month:02d}.{year}\"\n",
    "        new_rows.append([date, loan_rate])\n",
    "\n",
    "# Open the existing CSV file and read its contents\n",
    "with open('bank_loan_rate_changes.csv', 'r', newline='') as csvfile:\n",
    "    reader = csv.reader(csvfile)\n",
    "    existing_data = list(reader)\n",
    "\n",
    "# Combine the new rows with the existing data\n",
    "updated_data = new_rows + existing_data\n",
    "\n",
    "# Write the updated data back to the CSV file\n",
    "with open('bank_loan_rate_changes.csv', 'w', newline='') as csvfile:\n",
    "    writer = csv.writer(csvfile)\n",
    "    writer.writerows(updated_data)\n",
    "\n",
    "print(\"New rows added in the 'DD.MM.YYYY' format with a loan rate of 18.70.\")"
   ]
  }
 ],
 "metadata": {
  "kernelspec": {
   "display_name": "base",
   "language": "python",
   "name": "python3"
  },
  "language_info": {
   "codemirror_mode": {
    "name": "ipython",
    "version": 3
   },
   "file_extension": ".py",
   "mimetype": "text/x-python",
   "name": "python",
   "nbconvert_exporter": "python",
   "pygments_lexer": "ipython3",
   "version": "3.9.18"
  }
 },
 "nbformat": 4,
 "nbformat_minor": 2
}
