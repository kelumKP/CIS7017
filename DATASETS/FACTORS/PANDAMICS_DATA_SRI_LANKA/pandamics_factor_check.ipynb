{
 "cells": [
  {
   "cell_type": "code",
   "execution_count": 1,
   "metadata": {},
   "outputs": [
    {
     "name": "stdout",
     "output_type": "stream",
     "text": [
      "Correlation between 'Close (Rs.)' and 'Severity': 0.0007311737702897366\n"
     ]
    }
   ],
   "source": [
    "import pandas as pd\n",
    "\n",
    "# Assuming your data is stored in a CSV file named 'data.csv'\n",
    "data = pd.read_csv('./final_pandamics_vs_stock_values.csv')\n",
    "\n",
    "# Calculate the correlation between 'Close (Rs.)' and 'Severity'\n",
    "correlation = data['Close (Rs.)'].corr(data['Severity'])\n",
    "\n",
    "print(f\"Correlation between 'Close (Rs.)' and 'Severity': {correlation}\")"
   ]
  },
  {
   "cell_type": "code",
   "execution_count": 2,
   "metadata": {},
   "outputs": [
    {
     "name": "stdout",
     "output_type": "stream",
     "text": [
      "Intercept: 102.09529108939111\n",
      "Coefficient: 3.4003756776144583e-06\n"
     ]
    }
   ],
   "source": [
    "import pandas as pd\n",
    "from sklearn.linear_model import LinearRegression\n",
    "\n",
    "# Load the data from the CSV file\n",
    "data = pd.read_csv('./final_pandamics_vs_stock_values.csv')\n",
    "\n",
    "# Extract the independent variable (X) and dependent variable (y)\n",
    "X = data[['Severity']]  # Independent variable\n",
    "y = data['Close (Rs.)']  # Dependent variable\n",
    "\n",
    "# Create and fit the linear regression model\n",
    "model = LinearRegression()\n",
    "model.fit(X, y)\n",
    "\n",
    "# Print the regression coefficients\n",
    "print(\"Intercept:\", model.intercept_)\n",
    "print(\"Coefficient:\", model.coef_[0])\n",
    "\n",
    "# Predict 'Close (Rs.)' based on 'Severity'\n",
    "predicted_values = model.predict(X)"
   ]
  },
  {
   "cell_type": "code",
   "execution_count": 3,
   "metadata": {},
   "outputs": [
    {
     "name": "stderr",
     "output_type": "stream",
     "text": [
      "/Users/kelumrubasin/opt/anaconda3/lib/python3.9/site-packages/statsmodels/tsa/stattools.py:1488: FutureWarning: verbose is deprecated since functions should not print results\n",
      "  warnings.warn(\n"
     ]
    },
    {
     "name": "stdout",
     "output_type": "stream",
     "text": [
      "\n",
      "Granger Causality\n",
      "number of lags (no zero) 1\n",
      "ssr based F test:         F=0.0208  , p=0.8853  , df_denom=40420, df_num=1\n",
      "ssr based chi2 test:   chi2=0.0208  , p=0.8853  , df=1\n",
      "likelihood ratio test: chi2=0.0208  , p=0.8853  , df=1\n",
      "parameter F test:         F=0.0208  , p=0.8853  , df_denom=40420, df_num=1\n",
      "\n",
      "Granger Causality\n",
      "number of lags (no zero) 2\n",
      "ssr based F test:         F=0.0296  , p=0.9709  , df_denom=40417, df_num=2\n",
      "ssr based chi2 test:   chi2=0.0592  , p=0.9708  , df=2\n",
      "likelihood ratio test: chi2=0.0592  , p=0.9708  , df=2\n",
      "parameter F test:         F=0.0296  , p=0.9709  , df_denom=40417, df_num=2\n",
      "\n",
      "Granger Causality\n",
      "number of lags (no zero) 3\n",
      "ssr based F test:         F=0.0544  , p=0.9833  , df_denom=40414, df_num=3\n",
      "ssr based chi2 test:   chi2=0.1631  , p=0.9833  , df=3\n",
      "likelihood ratio test: chi2=0.1631  , p=0.9833  , df=3\n",
      "parameter F test:         F=0.0544  , p=0.9833  , df_denom=40414, df_num=3\n",
      "\n",
      "Granger Causality\n",
      "number of lags (no zero) 4\n",
      "ssr based F test:         F=0.0819  , p=0.9880  , df_denom=40411, df_num=4\n",
      "ssr based chi2 test:   chi2=0.3275  , p=0.9880  , df=4\n",
      "likelihood ratio test: chi2=0.3275  , p=0.9880  , df=4\n",
      "parameter F test:         F=0.0819  , p=0.9880  , df_denom=40411, df_num=4\n",
      "\n",
      "Granger Causality\n",
      "number of lags (no zero) 5\n",
      "ssr based F test:         F=0.0993  , p=0.9923  , df_denom=40408, df_num=5\n",
      "ssr based chi2 test:   chi2=0.4965  , p=0.9923  , df=5\n",
      "likelihood ratio test: chi2=0.4965  , p=0.9923  , df=5\n",
      "parameter F test:         F=0.0993  , p=0.9923  , df_denom=40408, df_num=5\n"
     ]
    }
   ],
   "source": [
    "import pandas as pd\n",
    "from statsmodels.tsa.stattools import grangercausalitytests\n",
    "\n",
    "# Load the data from the CSV file\n",
    "data = pd.read_csv('final_pandamics_vs_stock_values.csv')\n",
    "\n",
    "# Create a DataFrame with just the two columns of interest\n",
    "data_subset = data[['Close (Rs.)', 'Severity']]\n",
    "\n",
    "# Perform the Granger causality test\n",
    "max_lag = 5  # You can choose an appropriate maximum lag value\n",
    "results = grangercausalitytests(data_subset, max_lag, verbose=True)"
   ]
  },
  {
   "cell_type": "code",
   "execution_count": 4,
   "metadata": {},
   "outputs": [
    {
     "name": "stdout",
     "output_type": "stream",
     "text": [
      "[[ 2.70402713e-02  4.99910819e-05]\n",
      " [ 2.70402713e-02 -4.99910819e-05]]\n"
     ]
    }
   ],
   "source": [
    "import pandas as pd\n",
    "from factor_analyzer import FactorAnalyzer\n",
    "\n",
    "# Load the data from the CSV file\n",
    "data = pd.read_csv('final_pandamics_vs_stock_values.csv')\n",
    "\n",
    "# Select the relevant columns for analysis\n",
    "X = data[['Close (Rs.)', 'Severity']]\n",
    "\n",
    "# Initialize the FactorAnalyzer with the desired number of factors (e.g., 2)\n",
    "fa = FactorAnalyzer(n_factors=2, rotation=None)\n",
    "\n",
    "# Fit the data to the factor analysis model\n",
    "fa.fit(X)\n",
    "\n",
    "# Get the factor loadings\n",
    "loadings = fa.loadings_\n",
    "\n",
    "# Print the factor loadings\n",
    "print(loadings)"
   ]
  }
 ],
 "metadata": {
  "kernelspec": {
   "display_name": "base",
   "language": "python",
   "name": "python3"
  },
  "language_info": {
   "codemirror_mode": {
    "name": "ipython",
    "version": 3
   },
   "file_extension": ".py",
   "mimetype": "text/x-python",
   "name": "python",
   "nbconvert_exporter": "python",
   "pygments_lexer": "ipython3",
   "version": "3.9.18"
  }
 },
 "nbformat": 4,
 "nbformat_minor": 2
}
