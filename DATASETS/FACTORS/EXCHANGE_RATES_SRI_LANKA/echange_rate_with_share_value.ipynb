{
 "cells": [
  {
   "cell_type": "code",
   "execution_count": 2,
   "metadata": {},
   "outputs": [
    {
     "name": "stdout",
     "output_type": "stream",
     "text": [
      "     Year  Month   Buy Rate\n",
      "0    2010      5  112.91915\n",
      "1    2010      6  112.90460\n",
      "2    2010      7  113.57550\n",
      "3    2010      8  111.78065\n",
      "4    2010      9  111.70580\n",
      "..    ...    ...        ...\n",
      "146  2023      6  297.41325\n",
      "147  2023      7  314.12565\n",
      "148  2023      8  315.05740\n",
      "149  2023      9  317.54360\n",
      "150  2023     10  318.22660\n",
      "\n",
      "[151 rows x 3 columns]\n"
     ]
    },
    {
     "name": "stderr",
     "output_type": "stream",
     "text": [
      "/var/folders/kp/bgyrqb3s3n19yxcx2cyqppwh0000gn/T/ipykernel_18373/2473446563.py:10: SettingWithCopyWarning: \n",
      "A value is trying to be set on a copy of a slice from a DataFrame.\n",
      "Try using .loc[row_indexer,col_indexer] = value instead\n",
      "\n",
      "See the caveats in the documentation: https://pandas.pydata.org/pandas-docs/stable/user_guide/indexing.html#returning-a-view-versus-a-copy\n",
      "  usd_rows['Year'] = pd.to_datetime(usd_rows['Date']).dt.year\n",
      "/var/folders/kp/bgyrqb3s3n19yxcx2cyqppwh0000gn/T/ipykernel_18373/2473446563.py:11: SettingWithCopyWarning: \n",
      "A value is trying to be set on a copy of a slice from a DataFrame.\n",
      "Try using .loc[row_indexer,col_indexer] = value instead\n",
      "\n",
      "See the caveats in the documentation: https://pandas.pydata.org/pandas-docs/stable/user_guide/indexing.html#returning-a-view-versus-a-copy\n",
      "  usd_rows['Month'] = pd.to_datetime(usd_rows['Date']).dt.month\n"
     ]
    }
   ],
   "source": [
    "import pandas as pd\n",
    "\n",
    "# Read the CSV file into a DataFrame\n",
    "usd_exchange_rate = pd.read_csv(\"EXCHANGE_RATES_2010-PRESENT.csv\")\n",
    "\n",
    "# Filter rows where the \"Currency\" column is equal to \"USD\"\n",
    "usd_rows = usd_exchange_rate[usd_exchange_rate['Currency'] == 'USD']\n",
    "\n",
    "# Extract year and month from the 'Date' column\n",
    "usd_rows['Year'] = pd.to_datetime(usd_rows['Date']).dt.year\n",
    "usd_rows['Month'] = pd.to_datetime(usd_rows['Date']).dt.month\n",
    "\n",
    "# Group by 'Year' and 'Month' and calculate the median of 'Buy Rate'\n",
    "median_df = usd_rows.groupby(['Year', 'Month'])['Buy Rate'].median().reset_index()\n",
    "\n",
    "print(median_df)"
   ]
  },
  {
   "cell_type": "code",
   "execution_count": 6,
   "metadata": {},
   "outputs": [
    {
     "name": "stdout",
     "output_type": "stream",
     "text": [
      "     Year  Month   Buy Rate\n",
      "0    2010      5  112.91915\n",
      "1    2010      6  112.90460\n",
      "2    2010      7  113.57550\n",
      "3    2010      8  111.78065\n",
      "4    2010      9  111.70580\n",
      "..    ...    ...        ...\n",
      "156  2023      5  302.42570\n",
      "157  2023      6  297.41325\n",
      "158  2023      7  314.12565\n",
      "159  2023      8  315.05740\n",
      "160  2023      9  317.54360\n",
      "\n",
      "[161 rows x 3 columns]\n"
     ]
    }
   ],
   "source": [
    "# Find the starting and ending year and month\n",
    "start_year = median_df['Year'].iloc[0]\n",
    "start_month = median_df['Month'].iloc[0]\n",
    "end_year = median_df['Year'].iloc[-1]\n",
    "end_month = median_df['Month'].iloc[-1]\n",
    "\n",
    "# Create a range of years and months from the starting to ending\n",
    "date_range = pd.date_range(start=f\"{start_year}-{start_month}\", end=f\"{end_year}-{end_month}\", freq='M')\n",
    "\n",
    "# Create a new DataFrame with 'Year' and 'Month' columns from the date_range\n",
    "new_rows_df = pd.DataFrame({'Year': date_range.year, 'Month': date_range.month})\n",
    "\n",
    "# Merge the new rows DataFrame with the existing DataFrame to get the closest 'Buy Rate'\n",
    "result_df = new_rows_df.merge(median_df, on=['Year', 'Month'], how='left')\n",
    "\n",
    "rows_with_nan = result_df[result_df['Buy Rate'].isna()]\n",
    "\n",
    "# Define a dictionary to map 'Year' and 'Month' to the corresponding value\n",
    "fill_values = {\n",
    "    (2011, 9): 110.062,\n",
    "    (2011, 10): 110.096,\n",
    "    (2012, 3): 128.100,\n",
    "    (2012, 4): 129.210,\n",
    "    (2012, 5): 131.110,\n",
    "    (2012, 7): 131.700,\n",
    "    (2012, 8): 132.300,\n",
    "    (2012, 12): 127.500,\n",
    "    (2013, 2): 127.450,   \n",
    "    (2013, 3): 126.700,   \n",
    "    (2013, 5): 126.450,          \n",
    "}\n",
    "\n",
    "# Fill NaN values in the 'Buy Rate' column based on the 'Year' and 'Month' combination\n",
    "result_df['Buy Rate'] = result_df.apply(lambda row: fill_values.get((row['Year'], row['Month']), row['Buy Rate']), axis=1)\n",
    "\n",
    "print(result_df)"
   ]
  },
  {
   "cell_type": "code",
   "execution_count": 8,
   "metadata": {},
   "outputs": [
    {
     "name": "stdout",
     "output_type": "stream",
     "text": [
      "     Year  Month   Buy Rate\n",
      "445  1986      8   28.23000\n",
      "444  1986      9   28.36000\n",
      "443  1986     10   28.47000\n",
      "442  1986     11   28.51000\n",
      "441  1986     12   28.53000\n",
      "..    ...    ...        ...\n",
      "156  2023      5  302.42570\n",
      "157  2023      6  297.41325\n",
      "158  2023      7  314.12565\n",
      "159  2023      8  315.05740\n",
      "160  2023      9  317.54360\n",
      "\n",
      "[446 rows x 3 columns]\n"
     ]
    }
   ],
   "source": [
    "\n",
    "# Read the new CSV file with date and usd_rate columns\n",
    "new_data = pd.read_csv('./usd_rates.csv')\n",
    "\n",
    "# Convert the date column to a datetime object and extract year and month\n",
    "new_data['Date'] = pd.to_datetime(new_data['date'], format='%m/%d/%y')\n",
    "new_data['Year'] = new_data['Date'].dt.year\n",
    "new_data['Month'] = new_data['Date'].dt.month\n",
    "\n",
    "# Create a new DataFrame with 'Year', 'Month', and 'Buy Rate' columns\n",
    "new_df = new_data[['Year', 'Month', 'usd_rate']].rename(columns={'usd_rate': 'Buy Rate'})\n",
    "\n",
    "# Merge the new DataFrame with the existing DataFrame\n",
    "merged_usd_rates_df = pd.concat([result_df, new_df], ignore_index=True)\n",
    "\n",
    "# Sort the merged DataFrame by 'Year' and 'Month'\n",
    "merged_usd_rates_df = merged_usd_rates_df.sort_values(by=['Year', 'Month'])\n",
    "\n",
    "print(merged_usd_rates_df)"
   ]
  },
  {
   "cell_type": "code",
   "execution_count": 9,
   "metadata": {},
   "outputs": [
    {
     "name": "stdout",
     "output_type": "stream",
     "text": [
      "            Label  Year  Month  Close (Rs.)\n",
      "19629   JKH.N0000  1986      8         0.00\n",
      "35686   SUN.N0000  1990      3        12.50\n",
      "16090  GREG.N0000  1990      4         0.50\n",
      "32359  SELI.N0000  1991      1       550.00\n",
      "33994  SHAL.N0000  1991      2       575.00\n",
      "...           ...   ...    ...          ...\n",
      "40074  VPEL.N0000  2023     10         6.80\n",
      "40078  WAPO.N0000  2023     10        31.50\n",
      "40388  WATA.N0000  2023     10        74.20\n",
      "40419  WIND.N0000  2023     10        18.55\n",
      "40423  YORK.N0000  2023     10       165.00\n",
      "\n",
      "[40424 rows x 4 columns]\n"
     ]
    }
   ],
   "source": [
    "import pandas as pd\n",
    "import os\n",
    "\n",
    "# Initialize an empty list to store the dataframes\n",
    "dataframes = []\n",
    "\n",
    "# Specify the directory containing the CSV files\n",
    "directory_path = \"../../CSE_DATA/SHARE_CHANGE/\"\n",
    "\n",
    "filenames = [os.path.join(directory_path, file) for file in os.listdir(directory_path) if file.endswith('.csv')]\n",
    "\n",
    "# Initialize an empty DataFrame to store the data\n",
    "data = pd.DataFrame()\n",
    "\n",
    "# Loop through the CSV files and read them into DataFrames\n",
    "for file in filenames:\n",
    "    df = pd.read_csv(file)\n",
    "    # Extract the label from the file name and remove the \".csv\" extension\n",
    "    label = os.path.basename(file).replace(\".csv\", \"\")\n",
    "    # Add the label as a new column\n",
    "    df['Label'] = label\n",
    "    dataframes.append(df)\n",
    "\n",
    "# Concatenate all DataFrames into a single DataFrame\n",
    "combined_df = pd.concat(dataframes, ignore_index=True)\n",
    "\n",
    "# Filter out data associated with the label 'SWAD.N0000'\n",
    "combined_df = combined_df[combined_df['Label'] != 'SWAD.N0000']\n",
    "\n",
    "# Convert 'Trade Date' from MM/DD/YY to DD/MM/YYYY format\n",
    "combined_df['Trade Date'] = pd.to_datetime(combined_df['Trade Date'], format='%m/%d/%y').dt.strftime('%d/%m/%Y')\n",
    "\n",
    "# Split 'Trade Date' into 'Day', 'Month', and 'Year' columns\n",
    "combined_df[['Day', 'Month', 'Year']] = combined_df['Trade Date'].str.split('/', expand=True)\n",
    "\n",
    "\n",
    "# Select the columns 'Label', 'Day', 'Month', 'Year', and 'Close (Rs.)'\n",
    "selected_columns = ['Label', 'Day', 'Month', 'Year', 'Close (Rs.)']\n",
    "result_df = combined_df[selected_columns]\n",
    "\n",
    "\n",
    "# Group by 'Label', 'Year', and 'Month' and calculate the median\n",
    "final_result = result_df.groupby(['Label', 'Year', 'Month'])['Close (Rs.)'].median().reset_index()\n",
    "\n",
    "\n",
    "# Sort the DataFrame by 'Label' and the new date columns\n",
    "final_result = final_result.sort_values(by=['Year', 'Month', 'Label'])\n",
    "\n",
    "# Convert 'Year' and 'Month' columns to integers\n",
    "final_result['Year'] = final_result['Year'].astype(int)\n",
    "final_result['Month'] = final_result['Month'].astype(int)\n",
    "\n",
    "print(final_result)"
   ]
  },
  {
   "cell_type": "code",
   "execution_count": 14,
   "metadata": {},
   "outputs": [
    {
     "name": "stdout",
     "output_type": "stream",
     "text": [
      "            Label  Year  Month  Close (Rs.)  Buy Rate\n",
      "0       JKH.N0000  1986      8         0.00    28.230\n",
      "1       SUN.N0000  1990      3        12.50    40.020\n",
      "2      GREG.N0000  1990      4         0.50    40.020\n",
      "3      SELI.N0000  1991      1       550.00    40.400\n",
      "4      SHAL.N0000  1991      2       575.00    40.720\n",
      "...           ...   ...    ...          ...       ...\n",
      "40419  VPEL.N0000  2023     10         6.80   323.787\n",
      "40420  WAPO.N0000  2023     10        31.50   323.787\n",
      "40421  WATA.N0000  2023     10        74.20   323.787\n",
      "40422  WIND.N0000  2023     10        18.55   323.787\n",
      "40423  YORK.N0000  2023     10       165.00   323.787\n",
      "\n",
      "[40424 rows x 5 columns]\n"
     ]
    }
   ],
   "source": [
    "# Merge the DataFrames using a left join on 'Year' and 'Month'\n",
    "merged_df = pd.merge(final_result, merged_usd_rates_df, on=['Year', 'Month'], how='left')\n",
    "\n",
    "\n",
    "merged_df['Buy Rate'] = merged_df['Buy Rate'].fillna(323.787)\n",
    "# Assuming you have the combined DataFrame named 'result_df'\n",
    "merged_df.to_csv('final_usd_exchange_rate_vs_stock_values.csv', index=False)\n",
    "\n",
    "print(merged_df)\n"
   ]
  },
  {
   "cell_type": "code",
   "execution_count": 11,
   "metadata": {},
   "outputs": [
    {
     "name": "stderr",
     "output_type": "stream",
     "text": [
      "/var/folders/kp/bgyrqb3s3n19yxcx2cyqppwh0000gn/T/ipykernel_18373/3091322312.py:2: SettingWithCopyWarning: \n",
      "A value is trying to be set on a copy of a slice from a DataFrame.\n",
      "Try using .loc[row_indexer,col_indexer] = value instead\n",
      "\n",
      "See the caveats in the documentation: https://pandas.pydata.org/pandas-docs/stable/user_guide/indexing.html#returning-a-view-versus-a-copy\n",
      "  result_df['Year'] = result_df['Year'].astype(str)\n",
      "/var/folders/kp/bgyrqb3s3n19yxcx2cyqppwh0000gn/T/ipykernel_18373/3091322312.py:3: SettingWithCopyWarning: \n",
      "A value is trying to be set on a copy of a slice from a DataFrame.\n",
      "Try using .loc[row_indexer,col_indexer] = value instead\n",
      "\n",
      "See the caveats in the documentation: https://pandas.pydata.org/pandas-docs/stable/user_guide/indexing.html#returning-a-view-versus-a-copy\n",
      "  result_df['Month'] = result_df['Month'].astype(str)\n",
      "/var/folders/kp/bgyrqb3s3n19yxcx2cyqppwh0000gn/T/ipykernel_18373/3091322312.py:4: SettingWithCopyWarning: \n",
      "A value is trying to be set on a copy of a slice from a DataFrame.\n",
      "Try using .loc[row_indexer,col_indexer] = value instead\n",
      "\n",
      "See the caveats in the documentation: https://pandas.pydata.org/pandas-docs/stable/user_guide/indexing.html#returning-a-view-versus-a-copy\n",
      "  result_df['Day'] = result_df['Day'].astype(str)\n"
     ]
    },
    {
     "ename": "AttributeError",
     "evalue": "Can only use .dt accessor with datetimelike values",
     "output_type": "error",
     "traceback": [
      "\u001b[0;31m---------------------------------------------------------------------------\u001b[0m",
      "\u001b[0;31mAttributeError\u001b[0m                            Traceback (most recent call last)",
      "\u001b[1;32m/Users/kelumrubasin/Desktop/MSC_DATA_SCIENCE/8_Technology_Dissertation/Assignment_CIS7017/CIS7017/DATASETS/FACTORS/EXCHANGE_RATES_SRI_LANKA/echange_rate_with_share_value.ipynb Cell 6\u001b[0m line \u001b[0;36m6\n\u001b[1;32m      <a href='vscode-notebook-cell:/Users/kelumrubasin/Desktop/MSC_DATA_SCIENCE/8_Technology_Dissertation/Assignment_CIS7017/CIS7017/DATASETS/FACTORS/EXCHANGE_RATES_SRI_LANKA/echange_rate_with_share_value.ipynb#W5sZmlsZQ%3D%3D?line=2'>3</a>\u001b[0m result_df[\u001b[39m'\u001b[39m\u001b[39mMonth\u001b[39m\u001b[39m'\u001b[39m] \u001b[39m=\u001b[39m result_df[\u001b[39m'\u001b[39m\u001b[39mMonth\u001b[39m\u001b[39m'\u001b[39m]\u001b[39m.\u001b[39mastype(\u001b[39mstr\u001b[39m)\n\u001b[1;32m      <a href='vscode-notebook-cell:/Users/kelumrubasin/Desktop/MSC_DATA_SCIENCE/8_Technology_Dissertation/Assignment_CIS7017/CIS7017/DATASETS/FACTORS/EXCHANGE_RATES_SRI_LANKA/echange_rate_with_share_value.ipynb#W5sZmlsZQ%3D%3D?line=3'>4</a>\u001b[0m result_df[\u001b[39m'\u001b[39m\u001b[39mDay\u001b[39m\u001b[39m'\u001b[39m] \u001b[39m=\u001b[39m result_df[\u001b[39m'\u001b[39m\u001b[39mDay\u001b[39m\u001b[39m'\u001b[39m]\u001b[39m.\u001b[39mastype(\u001b[39mstr\u001b[39m)\n\u001b[0;32m----> <a href='vscode-notebook-cell:/Users/kelumrubasin/Desktop/MSC_DATA_SCIENCE/8_Technology_Dissertation/Assignment_CIS7017/CIS7017/DATASETS/FACTORS/EXCHANGE_RATES_SRI_LANKA/echange_rate_with_share_value.ipynb#W5sZmlsZQ%3D%3D?line=5'>6</a>\u001b[0m usd_exchange_rate[\u001b[39m'\u001b[39m\u001b[39mYear\u001b[39m\u001b[39m'\u001b[39m] \u001b[39m=\u001b[39m usd_exchange_rate[\u001b[39m'\u001b[39;49m\u001b[39mDate\u001b[39;49m\u001b[39m'\u001b[39;49m]\u001b[39m.\u001b[39;49mdt\u001b[39m.\u001b[39myear\u001b[39m.\u001b[39mastype(\u001b[39mstr\u001b[39m)\n\u001b[1;32m      <a href='vscode-notebook-cell:/Users/kelumrubasin/Desktop/MSC_DATA_SCIENCE/8_Technology_Dissertation/Assignment_CIS7017/CIS7017/DATASETS/FACTORS/EXCHANGE_RATES_SRI_LANKA/echange_rate_with_share_value.ipynb#W5sZmlsZQ%3D%3D?line=6'>7</a>\u001b[0m usd_exchange_rate[\u001b[39m'\u001b[39m\u001b[39mMonth\u001b[39m\u001b[39m'\u001b[39m] \u001b[39m=\u001b[39m usd_exchange_rate[\u001b[39m'\u001b[39m\u001b[39mDate\u001b[39m\u001b[39m'\u001b[39m]\u001b[39m.\u001b[39mdt\u001b[39m.\u001b[39mmonth\u001b[39m.\u001b[39mastype(\u001b[39mstr\u001b[39m)\n\u001b[1;32m      <a href='vscode-notebook-cell:/Users/kelumrubasin/Desktop/MSC_DATA_SCIENCE/8_Technology_Dissertation/Assignment_CIS7017/CIS7017/DATASETS/FACTORS/EXCHANGE_RATES_SRI_LANKA/echange_rate_with_share_value.ipynb#W5sZmlsZQ%3D%3D?line=7'>8</a>\u001b[0m usd_exchange_rate[\u001b[39m'\u001b[39m\u001b[39mDay\u001b[39m\u001b[39m'\u001b[39m] \u001b[39m=\u001b[39m usd_exchange_rate[\u001b[39m'\u001b[39m\u001b[39mDate\u001b[39m\u001b[39m'\u001b[39m]\u001b[39m.\u001b[39mdt\u001b[39m.\u001b[39mday\u001b[39m.\u001b[39mastype(\u001b[39mstr\u001b[39m)\n",
      "File \u001b[0;32m~/opt/anaconda3/lib/python3.9/site-packages/pandas/core/generic.py:5902\u001b[0m, in \u001b[0;36mNDFrame.__getattr__\u001b[0;34m(self, name)\u001b[0m\n\u001b[1;32m   5895\u001b[0m \u001b[39mif\u001b[39;00m (\n\u001b[1;32m   5896\u001b[0m     name \u001b[39mnot\u001b[39;00m \u001b[39min\u001b[39;00m \u001b[39mself\u001b[39m\u001b[39m.\u001b[39m_internal_names_set\n\u001b[1;32m   5897\u001b[0m     \u001b[39mand\u001b[39;00m name \u001b[39mnot\u001b[39;00m \u001b[39min\u001b[39;00m \u001b[39mself\u001b[39m\u001b[39m.\u001b[39m_metadata\n\u001b[1;32m   5898\u001b[0m     \u001b[39mand\u001b[39;00m name \u001b[39mnot\u001b[39;00m \u001b[39min\u001b[39;00m \u001b[39mself\u001b[39m\u001b[39m.\u001b[39m_accessors\n\u001b[1;32m   5899\u001b[0m     \u001b[39mand\u001b[39;00m \u001b[39mself\u001b[39m\u001b[39m.\u001b[39m_info_axis\u001b[39m.\u001b[39m_can_hold_identifiers_and_holds_name(name)\n\u001b[1;32m   5900\u001b[0m ):\n\u001b[1;32m   5901\u001b[0m     \u001b[39mreturn\u001b[39;00m \u001b[39mself\u001b[39m[name]\n\u001b[0;32m-> 5902\u001b[0m \u001b[39mreturn\u001b[39;00m \u001b[39mobject\u001b[39;49m\u001b[39m.\u001b[39;49m\u001b[39m__getattribute__\u001b[39;49m(\u001b[39mself\u001b[39;49m, name)\n",
      "File \u001b[0;32m~/opt/anaconda3/lib/python3.9/site-packages/pandas/core/accessor.py:182\u001b[0m, in \u001b[0;36mCachedAccessor.__get__\u001b[0;34m(self, obj, cls)\u001b[0m\n\u001b[1;32m    179\u001b[0m \u001b[39mif\u001b[39;00m obj \u001b[39mis\u001b[39;00m \u001b[39mNone\u001b[39;00m:\n\u001b[1;32m    180\u001b[0m     \u001b[39m# we're accessing the attribute of the class, i.e., Dataset.geo\u001b[39;00m\n\u001b[1;32m    181\u001b[0m     \u001b[39mreturn\u001b[39;00m \u001b[39mself\u001b[39m\u001b[39m.\u001b[39m_accessor\n\u001b[0;32m--> 182\u001b[0m accessor_obj \u001b[39m=\u001b[39m \u001b[39mself\u001b[39;49m\u001b[39m.\u001b[39;49m_accessor(obj)\n\u001b[1;32m    183\u001b[0m \u001b[39m# Replace the property with the accessor object. Inspired by:\u001b[39;00m\n\u001b[1;32m    184\u001b[0m \u001b[39m# https://www.pydanny.com/cached-property.html\u001b[39;00m\n\u001b[1;32m    185\u001b[0m \u001b[39m# We need to use object.__setattr__ because we overwrite __setattr__ on\u001b[39;00m\n\u001b[1;32m    186\u001b[0m \u001b[39m# NDFrame\u001b[39;00m\n\u001b[1;32m    187\u001b[0m \u001b[39mobject\u001b[39m\u001b[39m.\u001b[39m\u001b[39m__setattr__\u001b[39m(obj, \u001b[39mself\u001b[39m\u001b[39m.\u001b[39m_name, accessor_obj)\n",
      "File \u001b[0;32m~/opt/anaconda3/lib/python3.9/site-packages/pandas/core/indexes/accessors.py:512\u001b[0m, in \u001b[0;36mCombinedDatetimelikeProperties.__new__\u001b[0;34m(cls, data)\u001b[0m\n\u001b[1;32m    509\u001b[0m \u001b[39melif\u001b[39;00m is_period_dtype(data\u001b[39m.\u001b[39mdtype):\n\u001b[1;32m    510\u001b[0m     \u001b[39mreturn\u001b[39;00m PeriodProperties(data, orig)\n\u001b[0;32m--> 512\u001b[0m \u001b[39mraise\u001b[39;00m \u001b[39mAttributeError\u001b[39;00m(\u001b[39m\"\u001b[39m\u001b[39mCan only use .dt accessor with datetimelike values\u001b[39m\u001b[39m\"\u001b[39m)\n",
      "\u001b[0;31mAttributeError\u001b[0m: Can only use .dt accessor with datetimelike values"
     ]
    }
   ],
   "source": [
    "# Convert 'Year', 'Month', and 'Day' columns to strings in both DataFrames\n",
    "result_df['Year'] = result_df['Year'].astype(str)\n",
    "result_df['Month'] = result_df['Month'].astype(str)\n",
    "result_df['Day'] = result_df['Day'].astype(str)\n",
    "\n",
    "usd_exchange_rate['Year'] = usd_exchange_rate['Date'].dt.year.astype(str)\n",
    "usd_exchange_rate['Month'] = usd_exchange_rate['Date'].dt.month.astype(str)\n",
    "usd_exchange_rate['Day'] = usd_exchange_rate['Date'].dt.day.astype(str)\n",
    "\n",
    "# Merge share_df with exchange_rate on Year, Month, and Day columns\n",
    "merged_df = result_df.merge(usd_exchange_rate[['Day', 'Month', 'Year', 'Buy Rate', 'Sell Rate']], on=['Day', 'Month', 'Year'], how='left')\n",
    "\n",
    "# Remove rows where both 'Buy Rate' and 'Sell Rate' are NaN\n",
    "merged_df = merged_df.dropna(subset=['Buy Rate', 'Sell Rate'])\n",
    "\n",
    "# Print or use merged_df\n",
    "print(merged_df)\n"
   ]
  },
  {
   "cell_type": "code",
   "execution_count": null,
   "metadata": {},
   "outputs": [],
   "source": [
    "# Save the filtered DataFrame to a CSV file\n",
    "merged_df.to_csv('usd_vs_share_price_data.csv', index=False)"
   ]
  },
  {
   "cell_type": "code",
   "execution_count": 1,
   "metadata": {},
   "outputs": [
    {
     "data": {
      "image/png": "[encoded data removed]",
      "text/plain": [
       "<Figure size 1000x800 with 2 Axes>"
      ]
     },
     "metadata": {},
     "output_type": "display_data"
    }
   ],
   "source": [
    "import pandas as pd\n",
    "import seaborn as sns\n",
    "import matplotlib.pyplot as plt\n",
    "\n",
    "# Your DataFrame\n",
    "data = pd.read_csv('./final_usd_exchange_rate_vs_stock_values.csv')\n",
    "\n",
    "df = pd.DataFrame(data)\n",
    "\n",
    "# Select the columns you want for the heatmap\n",
    "columns = ['Close (Rs.)', 'Buy Rate']\n",
    "\n",
    "# Create a correlation matrix\n",
    "corr_matrix = df[columns].corr()\n",
    "\n",
    "# Create custom color palette with \"Close (Rs.)\" in red and \"Loan Rate\" in green\n",
    "colors = ['red', 'blue']\n",
    "cmap = sns.color_palette(colors, as_cmap=True)\n",
    "\n",
    "# Set the font style to Times New Roman\n",
    "sns.set(style=\"white\", font='Times New Roman')\n",
    "\n",
    "# Create the heatmap\n",
    "plt.figure(figsize=(10, 8))\n",
    "sns.heatmap(corr_matrix, annot=True, cmap=cmap, linewidths=0.5, square=True)\n",
    "plt.title('Correlation Heatmap Close (Rs.) vs Buy Rate', fontweight='bold', fontsize=14)\n",
    "plt.show()"
   ]
  }
 ],
 "metadata": {
  "kernelspec": {
   "display_name": "base",
   "language": "python",
   "name": "python3"
  },
  "language_info": {
   "codemirror_mode": {
    "name": "ipython",
    "version": 3
   },
   "file_extension": ".py",
   "mimetype": "text/x-python",
   "name": "python",
   "nbconvert_exporter": "python",
   "pygments_lexer": "ipython3",
   "version": "3.9.18"
  }
 },
 "nbformat": 4,
 "nbformat_minor": 2
}
