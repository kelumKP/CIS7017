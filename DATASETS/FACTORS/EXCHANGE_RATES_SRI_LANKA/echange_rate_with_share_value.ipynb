{
 "cells": [
  {
   "cell_type": "code",
   "execution_count": 10,
   "metadata": {},
   "outputs": [
    {
     "name": "stdout",
     "output_type": "stream",
     "text": [
      "      Currency        Date  Buy Rate  Sell Rate\n",
      "18393      USD  2023-10-12  318.0688   328.8289\n",
      "18394      USD  2023-10-11  318.0267   328.7869\n",
      "18395      USD  2023-10-10  317.9102   328.7491\n",
      "18396      USD  2023-10-09  318.3050   328.9350\n",
      "18397      USD  2023-10-06  318.2819   328.9108\n",
      "...        ...         ...       ...        ...\n",
      "21016      USD  2010-08-13  111.6162   113.2044\n",
      "21017      USD  2010-07-19  113.5755   111.9651\n",
      "21018      USD  2010-06-15  112.9046   114.4329\n",
      "21019      USD  2010-05-11  112.8658   114.4100\n",
      "21020      USD  2010-05-07  112.9725   114.5881\n",
      "\n",
      "[2628 rows x 4 columns]\n"
     ]
    }
   ],
   "source": [
    "import pandas as pd\n",
    "\n",
    "# Read the CSV file into a DataFrame\n",
    "usd_exchange_rate = pd.read_csv(\"EXCHANGE_RATES_2010-PRESENT.csv\")\n",
    "\n",
    "# Filter rows where the \"Currency\" column is equal to \"USD\"\n",
    "usd_rows = usd_exchange_rate[usd_exchange_rate['Currency'] == 'USD']\n",
    "\n",
    "# Display the filtered rows\n",
    "print(usd_rows)"
   ]
  },
  {
   "cell_type": "code",
   "execution_count": 11,
   "metadata": {},
   "outputs": [
    {
     "name": "stdout",
     "output_type": "stream",
     "text": [
      "             Label Day Month  Year  Close (Rs.)\n",
      "216103   JKH.N0000  17    08  1986          0.0\n",
      "132130   SUN.N0000  30    03  1990         12.5\n",
      "74593   GREG.N0000  02    04  1990          0.5\n",
      "401097  SELI.N0000  10    01  1991        550.0\n",
      "463724  SHAL.N0000  08    02  1991        575.0\n",
      "...            ...  ..   ...   ...          ...\n",
      "166672  VPEL.N0000  13    10  2023          6.8\n",
      "336467  WAPO.N0000  13    10  2023         31.3\n",
      "446639  WATA.N0000  13    10  2023         74.0\n",
      "69288   WIND.N0000  13    10  2023         19.0\n",
      "132589  YORK.N0000  13    10  2023        168.5\n",
      "\n",
      "[630051 rows x 5 columns]\n"
     ]
    }
   ],
   "source": [
    "import pandas as pd\n",
    "import os\n",
    "\n",
    "# Initialize an empty list to store the dataframes\n",
    "dataframes = []\n",
    "\n",
    "# Specify the directory containing the CSV files\n",
    "directory_path = \"../../CSE_DATA/SHARE_CHANGE/\"\n",
    "\n",
    "filenames = [os.path.join(directory_path, file) for file in os.listdir(directory_path) if file.endswith('.csv')]\n",
    "\n",
    "# Initialize an empty DataFrame to store the data\n",
    "data = pd.DataFrame()\n",
    "\n",
    "# Loop through the CSV files and read them into DataFrames\n",
    "for file in filenames:\n",
    "    df = pd.read_csv(file)\n",
    "    # Extract the label from the file name and remove the \".csv\" extension\n",
    "    label = os.path.basename(file).replace(\".csv\", \"\")\n",
    "    # Add the label as a new column\n",
    "    df['Label'] = label\n",
    "    dataframes.append(df)\n",
    "\n",
    "# Concatenate all DataFrames into a single DataFrame\n",
    "combined_df = pd.concat(dataframes, ignore_index=True)\n",
    "\n",
    "# Filter out data associated with the label 'SWAD.N0000'\n",
    "combined_df = combined_df[combined_df['Label'] != 'SWAD.N0000']\n",
    "\n",
    "# Convert 'Trade Date' from MM/DD/YY to DD/MM/YYYY format\n",
    "combined_df['Trade Date'] = pd.to_datetime(combined_df['Trade Date'], format='%m/%d/%y').dt.strftime('%d/%m/%Y')\n",
    "\n",
    "# Split 'Trade Date' into 'Day', 'Month', and 'Year' columns\n",
    "combined_df[['Day', 'Month', 'Year']] = combined_df['Trade Date'].str.split('/', expand=True)\n",
    "\n",
    "\n",
    "# Select the columns 'Label', 'Day', 'Month', 'Year', and 'Close (Rs.)'\n",
    "selected_columns = ['Label', 'Day', 'Month', 'Year', 'Close (Rs.)']\n",
    "result_df = combined_df[selected_columns]\n",
    "\n",
    "# Sort the DataFrame by 'Label' and the new date columns\n",
    "result_df = result_df.sort_values(by=['Year', 'Month', 'Day', 'Label'])\n",
    "\n",
    "print(result_df)"
   ]
  },
  {
   "cell_type": "code",
   "execution_count": 19,
   "metadata": {},
   "outputs": [
    {
     "name": "stdout",
     "output_type": "stream",
     "text": [
      "              Label Day Month  Year  Close (Rs.)  Buy Rate  Sell Rate\n",
      "244282   AAIC.N0000  13    10  2010         70.0  109.1219   112.0223\n",
      "244283   AAIC.N0000  13    10  2010         70.0  109.5084   112.3067\n",
      "244284   AAIC.N0000  13    10  2010         70.0  115.6973   118.5271\n",
      "244285   AAIC.N0000  13    10  2010         70.0  154.5356   158.1334\n",
      "244286   AAIC.N0000  13    10  2010         70.0  175.3399   178.9376\n",
      "...             ...  ..   ...   ...          ...       ...        ...\n",
      "1029390  WIND.N0000  12    10  2023         18.6  336.5029   351.5075\n",
      "1029391  WIND.N0000  12    10  2023         18.6  391.0078   406.8217\n",
      "1029392  WIND.N0000  12    10  2023         18.6    2.1247     2.2172\n",
      "1029393  WIND.N0000  12    10  2023         18.6  232.2532   242.9632\n",
      "1029394  WIND.N0000  12    10  2023         18.6  318.0688   328.8289\n",
      "\n",
      "[456680 rows x 7 columns]\n"
     ]
    }
   ],
   "source": [
    "# Convert 'Year', 'Month', and 'Day' columns to strings in both DataFrames\n",
    "result_df['Year'] = result_df['Year'].astype(str)\n",
    "result_df['Month'] = result_df['Month'].astype(str)\n",
    "result_df['Day'] = result_df['Day'].astype(str)\n",
    "\n",
    "usd_exchange_rate['Year'] = usd_exchange_rate['Date'].dt.year.astype(str)\n",
    "usd_exchange_rate['Month'] = usd_exchange_rate['Date'].dt.month.astype(str)\n",
    "usd_exchange_rate['Day'] = usd_exchange_rate['Date'].dt.day.astype(str)\n",
    "\n",
    "# Merge share_df with exchange_rate on Year, Month, and Day columns\n",
    "merged_df = result_df.merge(usd_exchange_rate[['Day', 'Month', 'Year', 'Buy Rate', 'Sell Rate']], on=['Day', 'Month', 'Year'], how='left')\n",
    "\n",
    "# Remove rows where both 'Buy Rate' and 'Sell Rate' are NaN\n",
    "merged_df = merged_df.dropna(subset=['Buy Rate', 'Sell Rate'])\n",
    "\n",
    "# Print or use merged_df\n",
    "print(merged_df)\n"
   ]
  },
  {
   "cell_type": "code",
   "execution_count": 20,
   "metadata": {},
   "outputs": [],
   "source": [
    "# Save the filtered DataFrame to a CSV file\n",
    "merged_df.to_csv('usd_vs_share_price_data.csv', index=False)"
   ]
  }
 ],
 "metadata": {
  "kernelspec": {
   "display_name": "base",
   "language": "python",
   "name": "python3"
  },
  "language_info": {
   "codemirror_mode": {
    "name": "ipython",
    "version": 3
   },
   "file_extension": ".py",
   "mimetype": "text/x-python",
   "name": "python",
   "nbconvert_exporter": "python",
   "pygments_lexer": "ipython3",
   "version": "3.9.18"
  }
 },
 "nbformat": 4,
 "nbformat_minor": 2
}
